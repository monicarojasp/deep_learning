{
 "cells": [
  {
   "cell_type": "markdown",
   "metadata": {},
   "source": [
    "# Training Neural Networks with Keras\n",
    "\n",
    "Welcome to the first practical session of the course! In this session, we will learn how to train neural networks with Keras. We will start with a simple example of a feedforward neural network for classification and then we will study the impact of the initialization of the weights on the convergence of the training algorithm.\n",
    "\n",
    "Keras is a high-level neural network API, built on top of TensorFlow 2.0. It provides a user-friendly interface to build, train and deploy deep learning models. Keras is designed to be modular, fast and easy to use.\n",
    "\n",
    "Throughout this course, we will focus on using Keras and TensorFlow for building and training neural networks. However, there are other popular deep learning frameworks such as PyTorch, MXNet, CNTK, etc. that you can also use to build and train neural networks.\n",
    "\n",
    "In order to use our code on Google Colab, we will need to ensure that any required packages are installed. We will use the following packages in this session:\n",
    "\n",
    "- `tensorflow`: an open-source library for numerical computation and large-scale machine learning.\n",
    "- `matplotlib`: a plotting library for the Python programming language and its numerical mathematics extension NumPy.\n",
    "- `numpy`: a library for scientific computing in Python.\n",
    "- `scikit-learn`: a machine learning library for the Python programming language.\n",
    "- `pandas`: a library providing high-performance, easy-to-use data structures and data analysis tools for the Python programming language.\n",
    "\n",
    "The following cell will check if the packages are installed, and if not, it will install them. Students familiar with how pip works might note that it already checks this before installing! The reason for this code (which will also appear in subsequent notebooks) is to speed up execution if you re-run the entire notebook - it will skip the installation step if the packages are already installed."
   ]
  },
  {
   "cell_type": "markdown",
   "metadata": {
    "collapsed": false
   },
   "source": [
    "With the packages installed, we can now get started on the practical session!\n",
    "\n",
    "Today, we will be working with the famous MNIST dataset. MNIST (Modified National Institute of Standards and Technology) is a database of low resolution images of handwritten digits. The history here is interesting - the dataset was originally created in the 1980s, when researchers from the aforementioned institute collected samples from American Census Bureau employees and high school students. The dataset was then modified in the 1990s (hence the M in MNIST), and has since become a popular benchmark for machine learning algorithms. \n",
    "\n",
    "The dataset contains images, each of which is a 28x28 grayscale image of a handwritten digit. The goal is to classify each image into one of the 10 possible classes (0-9).\n",
    "\n",
    "![MNIST](https://upload.wikimedia.org/wikipedia/commons/2/27/MnistExamples.png)\n",
    "\n",
    "The Scikit-Learn library provides a convenient function to download and load the MNIST dataset. The following cell will download the dataset. Then we will take a look at the shape of the data."
   ]
  },
  {
   "cell_type": "code",
   "execution_count": 1,
   "metadata": {},
   "outputs": [],
   "source": [
    "import matplotlib.pyplot as plt\n",
    "import numpy as np\n",
    "\n",
    "from sklearn.datasets import load_digits\n",
    "\n",
    "digits = load_digits()"
   ]
  },
  {
   "cell_type": "code",
   "execution_count": 6,
   "metadata": {},
   "outputs": [
    {
     "name": "stdout",
     "output_type": "stream",
     "text": [
      "['DESCR', 'data', 'feature_names', 'frame', 'images', 'target', 'target_names']\n"
     ]
    }
   ],
   "source": [
    "print(dir(digits))\n"
   ]
  },
  {
   "cell_type": "code",
   "execution_count": 7,
   "metadata": {},
   "outputs": [
    {
     "data": {
      "text/plain": [
       "(1797, 8, 8)"
      ]
     },
     "execution_count": 7,
     "metadata": {},
     "output_type": "execute_result"
    }
   ],
   "source": [
    "digits.images.shape"
   ]
  },
  {
   "cell_type": "markdown",
   "metadata": {
    "collapsed": false
   },
   "source": [
    "This means that we have 1797 images, each of which is a 8x8 image. For basic image processing, we will need to flatten the images into a 1D array. In this case, Scikit-Learn has already provided the data in this format too:"
   ]
  },
  {
   "cell_type": "code",
   "execution_count": 8,
   "metadata": {},
   "outputs": [
    {
     "data": {
      "text/plain": [
       "(1797, 64)"
      ]
     },
     "execution_count": 8,
     "metadata": {},
     "output_type": "execute_result"
    }
   ],
   "source": [
    "digits.data.shape"
   ]
  },
  {
   "cell_type": "markdown",
   "metadata": {
    "collapsed": false
   },
   "source": [
    "For each image, we also have the corresponding label (or target, or class) in `digits.target`:"
   ]
  },
  {
   "cell_type": "code",
   "execution_count": 9,
   "metadata": {},
   "outputs": [
    {
     "data": {
      "text/plain": [
       "(1797,)"
      ]
     },
     "execution_count": 9,
     "metadata": {},
     "output_type": "execute_result"
    }
   ],
   "source": [
    "digits.target.shape"
   ]
  },
  {
   "cell_type": "markdown",
   "metadata": {
    "collapsed": false
   },
   "source": [
    "We can take a look at some random images from the dataset. The following cell will select 9 random images and plot them in a 3x3 grid (meaning that you can rerun the cell to see different images)."
   ]
  },
  {
   "cell_type": "code",
   "execution_count": 10,
   "metadata": {},
   "outputs": [
    {
     "data": {
      "image/png": "[encoded data removed]",
      "text/plain": [
       "<Figure size 600x600 with 9 Axes>"
      ]
     },
     "metadata": {},
     "output_type": "display_data"
    }
   ],
   "source": [
    "# Selecting 9 random indices\n",
    "random_indices = np.random.choice(len(digits.images), 9, replace=False)\n",
    "\n",
    "# Creating a 3x3 grid plot\n",
    "fig, axes = plt.subplots(3, 3, figsize=(6, 6))\n",
    "\n",
    "for i, ax in enumerate(axes.flat):\n",
    "    ax.imshow(digits.images[random_indices[i]], cmap=plt.cm.gray_r, interpolation='nearest')\n",
    "    ax.set_title(f\"Label: {digits.target[random_indices[i]]}\")\n",
    "\n",
    "    # Removing axis labels\n",
    "    ax.set_xticks([])\n",
    "    ax.set_yticks([])\n",
    "\n",
    "plt.show()"
   ]
  },
  {
   "cell_type": "markdown",
   "metadata": {
    "collapsed": false
   },
   "source": [
    "As you can see, these images are very low resolution. This is because they were originally scanned from paper forms, and then scaled down to 8x8 pixels. This is a common problem in machine learning - the quality of the data is often a limiting factor in the performance of the model. In this case, the low resolution of the images makes it difficult to distinguish between some digits, even for humans. For example, the following images are all labelled as 9, but they look very different:"
   ]
  },
  {
   "cell_type": "code",
   "execution_count": 12,
   "metadata": {
    "collapsed": false
   },
   "outputs": [
    {
     "data": {
      "image/png": "[encoded data removed]",
      "text/plain": [
       "<Figure size 600x600 with 9 Axes>"
      ]
     },
     "metadata": {},
     "output_type": "display_data"
    }
   ],
   "source": [
    "# Selecting 9 random indices of images labelled as 9\n",
    "random_indices = np.random.choice(np.where(digits.target == 9)[0], 9, replace=False)\n",
    "\n",
    "# Creating a 3x3 grid plot\n",
    "fig, axes = plt.subplots(3, 3, figsize=(6, 6))\n",
    "\n",
    "for i, ax in enumerate(axes.flat):\n",
    "    ax.imshow(digits.images[random_indices[i]], cmap=plt.cm.gray_r, interpolation='nearest')\n",
    "    ax.set_title(f\"Label: {digits.target[random_indices[i]]}\")\n",
    "\n",
    "    # Removing axis labels\n",
    "    ax.set_xticks([])\n",
    "    ax.set_yticks([])\n",
    "    \n",
    "plt.show()"
   ]
  },
  {
   "cell_type": "markdown",
   "metadata": {
    "collapsed": false
   },
   "source": [
    "While we are plotting the samples as images, remember that our model is only going to see a 1D array of numbers. "
   ]
  },
  {
   "cell_type": "markdown",
   "metadata": {},
   "source": [
    "## Train / Test Split\n",
    "\n",
    "In order to understand how well our model performs on _new_ data, we need to split our dataset into a training set and a test set. The training set will be used to train the model, and the test set will be used to evaluate the performance of the model.\n",
    "\n",
    "Let's keep some held-out data to be able to measure the generalization performance of our model. "
   ]
  },
  {
   "cell_type": "code",
   "execution_count": 14,
   "metadata": {},
   "outputs": [],
   "source": [
    "from sklearn.model_selection import train_test_split\n",
    "\n",
    "\n",
    "X_train, X_test, y_train, y_test = train_test_split(\n",
    "    digits.data, \n",
    "    digits.target,\n",
    "    test_size=0.2, # 20% of the data is used for testing\n",
    "    random_state=42 # Providing a value here means getting the same \"random\" split every time\n",
    ")"
   ]
  },
  {
   "cell_type": "markdown",
   "metadata": {
    "collapsed": false
   },
   "source": [
    "Let's confirm that the data has been split correctly:"
   ]
  },
  {
   "cell_type": "code",
   "execution_count": 15,
   "metadata": {
    "collapsed": false
   },
   "outputs": [
    {
     "name": "stdout",
     "output_type": "stream",
     "text": [
      "X_train shape: (1437, 64)\n",
      "y_train shape: (1437,)\n",
      "X_test shape: (360, 64)\n",
      "y_test shape: (360,)\n"
     ]
    }
   ],
   "source": [
    "print(f'X_train shape: {X_train.shape}')\n",
    "print(f'y_train shape: {y_train.shape}')\n",
    "print(f'X_test shape: {X_test.shape}')\n",
    "print(f'y_test shape: {y_test.shape}')"
   ]
  },
  {
   "cell_type": "markdown",
   "metadata": {
    "collapsed": false
   },
   "source": [
    "This is what we expected to see. It's always good to check as you go, to make sure that you haven't made a mistake somewhere - this is something that working in a notebook like this makes it easy to do."
   ]
  },
  {
   "cell_type": "markdown",
   "metadata": {},
   "source": [
    "## Preprocessing of the Target Data\n",
    "\n",
    "The labels that we have are integers between 0 and 9. However, we want to train a neural network to classify the images into one of 10 classes. It can be a little counter-intuitive because we are dealing with numbers, but our classes are not ordinal.\n",
    "\n",
    "What do we mean by that? Let's imagine we were trying to predict the height of a building (separated into classes) from images. If a given building was actually 10m tall, and our model predicted 9m, we would consider that to be a better prediction than if it predicted 1m. This is because the classes are ordinal - there is meaning in the difference between the classes.\n",
    "\n",
    "In our case, even though we are dealing with numbers, the classes are not ordinal. If a given image is actually a 9, and our model predicts 8, we would consider that to be just as bad as if it predicted 1. This is because the classes are not ordered, and the difference between the classes is not meaningful.\n",
    "\n",
    "Because of this, we need to convert our labels from an integer value into a one-hot encoded vector. This means that each label will be represented as a vector of length 10, with a 1 in the position corresponding to the class, and 0s everywhere else. For example, the label 9 would be represented as `[0, 0, 0, 0, 0, 0, 0, 0, 0, 1]`. This is a common way of representing categorical data in machine learning. By doing this, we ensure that our model is taught the correct relationship between the classes."
   ]
  },
  {
   "cell_type": "code",
   "execution_count": 16,
   "metadata": {},
   "outputs": [
    {
     "name": "stdout",
     "output_type": "stream",
     "text": [
      "Before one-hot encoding: 6\n",
      "After one-hot encoding: [0. 0. 0. 0. 0. 0. 1. 0. 0. 0.]\n"
     ]
    }
   ],
   "source": [
    "from tensorflow.keras.utils import to_categorical\n",
    "\n",
    "print(f'Before one-hot encoding: {y_train[0]}')\n",
    "y_train = to_categorical(y_train, num_classes=10)\n",
    "y_test = to_categorical(y_test, num_classes=10)\n",
    "print(f'After one-hot encoding: {y_train[0]}')"
   ]
  },
  {
   "cell_type": "markdown",
   "metadata": {},
   "source": [
    "## Feed Forward Neural Networks with Keras\n",
    "\n",
    "Now that we have prepared our data, it's time to build a simple neural network! In this section, we will use the Keras API to build a simple feed forward neural network. We will then train the model on the MNIST dataset, and evaluate its performance on the test set.\n",
    "\n",
    "In most modern deep learning frameworks, the process of building a model can be broken down into a few steps:\n",
    "\n",
    "- Define the model architecture: this is where we define the layers of the model, and how they are connected to each other.\n",
    "- Compile the model: this is where we define the loss function, the optimizer, and the metrics that we want to use to evaluate the model.\n",
    "- Train the model: this is where we train the model on the training data.\n",
    "\n",
    "Let's start with defining the model architecture. There are two ways to do this in Keras - the Sequential API and the Functional API. The Sequential API is the simplest way to build a model, and is suitable for most use cases. The Functional API is more flexible, and allows you to build more complex models. We will start with the Sequential API, and then we will look at the Functional API later in the course.\n",
    "\n",
    "Our simple neural network will be \"fully-connected\". This means that each neuron in a given layer is connected to every neuron in the next layer. This is also known as a \"dense\" layer. We will use the `Dense` class from Keras to define our layers."
   ]
  },
  {
   "cell_type": "code",
   "execution_count": 18,
   "metadata": {
    "collapsed": false
   },
   "outputs": [
    {
     "name": "stdout",
     "output_type": "stream",
     "text": [
      "Model: \"sequential_1\"\n",
      "_________________________________________________________________\n",
      " Layer (type)                Output Shape              Param #   \n",
      "=================================================================\n",
      " dense_3 (Dense)             (None, 64)                4160      \n",
      "                                                                 \n",
      " dense_4 (Dense)             (None, 64)                4160      \n",
      "                                                                 \n",
      " dense_5 (Dense)             (None, 10)                650       \n",
      "                                                                 \n",
      "=================================================================\n",
      "Total params: 8970 (35.04 KB)\n",
      "Trainable params: 8970 (35.04 KB)\n",
      "Non-trainable params: 0 (0.00 Byte)\n",
      "_________________________________________________________________\n"
     ]
    }
   ],
   "source": [
    "from tensorflow.keras.models import Sequential\n",
    "from tensorflow.keras.layers import Dense\n",
    "\n",
    "model = Sequential()\n",
    "\n",
    "# Input layer\n",
    "model.add(Dense(64, activation='relu', input_shape=(64,))) # 64 neurons, ReLU activation, input shape of 64\n",
    "\n",
    "# Hidden layer\n",
    "model.add(Dense(64, activation='relu')) # 64 neurons, ReLU activation\n",
    "\n",
    "# Output layer\n",
    "model.add(Dense(10, activation='softmax')) # 10 neurons, softmax activation\n",
    "\n",
    "model.summary()"
   ]
  },
  {
   "cell_type": "markdown",
   "metadata": {
    "collapsed": false
   },
   "source": [
    "Congratulations! You have just built your first neural network with Keras. As we can confirm from the `model.summary()` output, our model has 3 layers. The first layer has 64 neurons, the second layer has 64 neurons, and the output layer has 10 neurons. The output layer uses the softmax activation function, which is commonly used for multi-class classification problems. The other layers use the ReLU activation function, which is commonly used for hidden layers in neural networks.\n",
    "\n",
    "Next, we need to compile the model. This is where we define the loss function, the optimizer, and the metrics that we want to use to evaluate the model. We will use the `compile` method of the model to do this."
   ]
  },
  {
   "cell_type": "code",
   "execution_count": 19,
   "metadata": {
    "collapsed": false
   },
   "outputs": [],
   "source": [
    "model.compile(\n",
    "    loss='categorical_crossentropy', # Loss function\n",
    "    optimizer='sgd', # Optimizer\n",
    "    metrics=['accuracy'] # Metrics to evaluate the model\n",
    ")"
   ]
  },
  {
   "cell_type": "markdown",
   "metadata": {
    "collapsed": false
   },
   "source": [
    "Because we are predicting which class a sample belongs to, we will use the `categorical_crossentropy` function. This loss function is commonly used for multi-class classification problems. \n",
    "\n",
    "For our optimizer, we are using the standard stochastic gradient descent (SGD) algorithm. This is a simple optimizer that works well for many problems. We will look at more advanced optimizers later in the course.\n",
    "\n",
    "Finally, we are using the `accuracy` metric to evaluate the model. This is a common metric for classification problems, and it is simply the fraction of samples that are correctly classified. This is an easier metric for us to understand, but it's not quite as useful for actually training the model (for example, it doesn't tell us how \"confident\" the model is in its predictions).\n",
    "\n",
    "Now that we have (a) defined the model architecture and (b) compiled the model, we are ready to train the model. We will use the `fit` method of the model to do this."
   ]
  },
  {
   "cell_type": "code",
   "execution_count": 21,
   "metadata": {
    "collapsed": false
   },
   "outputs": [
    {
     "name": "stdout",
     "output_type": "stream",
     "text": [
      "Epoch 1/15\n",
      "36/36 [==============================] - 0s 3ms/step - loss: 0.0519 - accuracy: 0.9896 - val_loss: 0.1777 - val_accuracy: 0.9340\n",
      "Epoch 2/15\n",
      "36/36 [==============================] - 0s 724us/step - loss: 0.0486 - accuracy: 0.9922 - val_loss: 0.1786 - val_accuracy: 0.9375\n",
      "Epoch 3/15\n",
      "36/36 [==============================] - 0s 673us/step - loss: 0.0452 - accuracy: 0.9922 - val_loss: 0.1748 - val_accuracy: 0.9375\n",
      "Epoch 4/15\n",
      "36/36 [==============================] - 0s 662us/step - loss: 0.0408 - accuracy: 0.9948 - val_loss: 0.1782 - val_accuracy: 0.9410\n",
      "Epoch 5/15\n",
      "36/36 [==============================] - 0s 785us/step - loss: 0.0383 - accuracy: 0.9939 - val_loss: 0.1665 - val_accuracy: 0.9375\n",
      "Epoch 6/15\n",
      "36/36 [==============================] - 0s 646us/step - loss: 0.0375 - accuracy: 0.9965 - val_loss: 0.1724 - val_accuracy: 0.9410\n",
      "Epoch 7/15\n",
      "36/36 [==============================] - 0s 684us/step - loss: 0.0345 - accuracy: 0.9956 - val_loss: 0.1728 - val_accuracy: 0.9444\n",
      "Epoch 8/15\n",
      "36/36 [==============================] - 0s 635us/step - loss: 0.0324 - accuracy: 0.9965 - val_loss: 0.1614 - val_accuracy: 0.9514\n",
      "Epoch 9/15\n",
      "36/36 [==============================] - 0s 658us/step - loss: 0.0307 - accuracy: 0.9974 - val_loss: 0.1708 - val_accuracy: 0.9444\n",
      "Epoch 10/15\n",
      "36/36 [==============================] - 0s 657us/step - loss: 0.0305 - accuracy: 0.9948 - val_loss: 0.1648 - val_accuracy: 0.9444\n",
      "Epoch 11/15\n",
      "36/36 [==============================] - 0s 680us/step - loss: 0.0283 - accuracy: 0.9965 - val_loss: 0.1666 - val_accuracy: 0.9306\n",
      "Epoch 12/15\n",
      "36/36 [==============================] - 0s 646us/step - loss: 0.0263 - accuracy: 0.9974 - val_loss: 0.1682 - val_accuracy: 0.9479\n",
      "Epoch 13/15\n",
      "36/36 [==============================] - 0s 662us/step - loss: 0.0251 - accuracy: 0.9983 - val_loss: 0.1649 - val_accuracy: 0.9375\n",
      "Epoch 14/15\n",
      "36/36 [==============================] - 0s 650us/step - loss: 0.0234 - accuracy: 0.9965 - val_loss: 0.1729 - val_accuracy: 0.9410\n",
      "Epoch 15/15\n",
      "36/36 [==============================] - 0s 668us/step - loss: 0.0233 - accuracy: 0.9991 - val_loss: 0.1559 - val_accuracy: 0.9514\n"
     ]
    },
    {
     "data": {
      "text/plain": [
       "<keras.src.callbacks.History at 0x34033b8b0>"
      ]
     },
     "execution_count": 21,
     "metadata": {},
     "output_type": "execute_result"
    }
   ],
   "source": [
    "model.fit(\n",
    "    X_train, # Training data\n",
    "    y_train, # Training labels\n",
    "    epochs=15, # Number of epochs\n",
    "    batch_size=32, # Number of samples per batch\n",
    "    validation_split=0.2 # Use 20% of the data for validation\n",
    ")"
   ]
  },
  {
   "cell_type": "markdown",
   "metadata": {
    "collapsed": false
   },
   "source": [
    "We have now trained our model! We can see that the model has been trained for 5 epochs, and the loss and accuracy have been printed for each epoch. We can also see that the model has been evaluated on the validation data at the end of each epoch. This is useful for us to see how the model is performing on data that it hasn't seen during training.\n",
    "\n",
    "Once the model is trained, it's time to evaluate the model on the test set. We can use the `evaluate` method of the model to do this. If you were building a model for a real-world application, this is the very last thing you would do, and the result here would be the figure you'd report in your paper or presentation."
   ]
  },
  {
   "cell_type": "code",
   "execution_count": 22,
   "metadata": {
    "collapsed": false
   },
   "outputs": [
    {
     "name": "stdout",
     "output_type": "stream",
     "text": [
      "12/12 [==============================] - 0s 491us/step - loss: 0.1106 - accuracy: 0.9694\n",
      "Loss:     0.11\n",
      "Accuracy: 96.94%\n"
     ]
    }
   ],
   "source": [
    "loss, accuracy = model.evaluate(X_test, y_test)\n",
    "\n",
    "print(f'Loss:     {loss:.2f}')\n",
    "print(f'Accuracy: {accuracy*100:.2f}%')"
   ]
  },
  {
   "cell_type": "markdown",
   "metadata": {
    "collapsed": false
   },
   "source": [
    "Hopefully you have achieved an accuracy of around 95%. This is pretty good, but we can do better! In the next section, we will look at how we can improve the performance of our model by using a more advanced optimizer. But before we get there, let's do one other thing - let's look at the predictions that our model is making on the test set. When you are building a model, it's often useful to have a look at some of the examples your model is getting wrong. Sometimes this can reveal problems with the data, or it can give you ideas for how to improve your model."
   ]
  },
  {
   "cell_type": "code",
   "execution_count": 23,
   "metadata": {
    "collapsed": false
   },
   "outputs": [
    {
     "name": "stdout",
     "output_type": "stream",
     "text": [
      "12/12 [==============================] - 0s 404us/step\n"
     ]
    },
    {
     "data": {
      "image/png": "[encoded data removed]",
      "text/plain": [
       "<Figure size 600x600 with 9 Axes>"
      ]
     },
     "metadata": {},
     "output_type": "display_data"
    }
   ],
   "source": [
    "# Get the predictions for the test data\n",
    "predictions = model.predict(X_test)\n",
    "\n",
    "# Get the index of the largest probability (i.e. the predicted class)\n",
    "predicted_classes = np.argmax(predictions, axis=1)\n",
    "true_classes = np.argmax(y_test, axis=1)\n",
    "misclassified_indices = np.where(predicted_classes != true_classes)[0]\n",
    "\n",
    "# Get the misclassified samples themselves\n",
    "misclassified_samples = X_test[misclassified_indices]\n",
    "misclassified_labels = np.argmax(y_test[misclassified_indices], axis=1)\n",
    "\n",
    "# Pick 9 random misclassified samples\n",
    "random_indices = np.random.choice(len(misclassified_indices), 9, replace=False)\n",
    "\n",
    "fig, axes = plt.subplots(3, 3, figsize=(6, 6))\n",
    "for i, ax in enumerate(axes.flat):\n",
    "    ax.imshow(misclassified_samples[random_indices[i]].reshape(8, 8), cmap=plt.cm.gray_r, interpolation='nearest')\n",
    "    ax.set_title(f\"Pred: {predicted_classes[misclassified_indices[random_indices[i]]]}, Real: {misclassified_labels[random_indices[i]]}\")\n",
    "\n",
    "    # Removing axis labels\n",
    "    ax.set_xticks([])\n",
    "    ax.set_yticks([])\n",
    "    \n",
    "plt.show()"
   ]
  },
  {
   "cell_type": "markdown",
   "metadata": {
    "collapsed": false
   },
   "source": [
    "What do you think? Would you have made the same mistakes as the model? Determining whether the mistakes are \"understandable\" is a rough way of seeing if you could improve the model further, or if this is the best you can do with the data you have."
   ]
  },
  {
   "cell_type": "markdown",
   "metadata": {},
   "source": [
    "### b) Exercises: Impact of the Optimizer\n",
    "\n",
    "In this section, you will play around with the optimizer and see how it affects the performance of the model. We will start with the standard SGD optimizer, and then we will look at more advanced optimizers.\n",
    "\n",
    "1. Try decreasing the learning rate of the SGD optimizer by a factor of 10, or 100. What do you observe?\n",
    "2. Try increasing the learning rate of the SGD optimizer. What happens?\n",
    "3. The SGD optimizer has a momentum parameter. In a nutshell, this parameter controls how much the gradient from the previous step affects the current step. Try enabling momentum in the SGD optimizer with a value of 0.9. What happens?\n",
    "  \n",
    "**Notes**: \n",
    "\n",
    "The keras API documentation is available at:\n",
    "\n",
    "https://www.tensorflow.org/api_docs/python/tf/keras\n",
    "\n",
    "It is also possible to learn more about the parameters of a class by using the question mark: type and evaluate:\n",
    "\n",
    "```python\n",
    "optimizers.SGD?\n",
    "```\n",
    "\n",
    "in a jupyter notebook cell.\n",
    "\n",
    "It is also possible to type the beginning of a function call / constructor and type \"shift-tab\" after the opening paren:\n",
    "\n",
    "```python\n",
    "optimizers.SGD(<shift-tab>\n",
    "```"
   ]
  },
  {
   "cell_type": "code",
   "execution_count": 30,
   "metadata": {},
   "outputs": [
    {
     "name": "stdout",
     "output_type": "stream",
     "text": [
      "Help on class SGD in module keras.src.optimizers.sgd:\n",
      "\n",
      "class SGD(keras.src.optimizers.optimizer.Optimizer)\n",
      " |  SGD(learning_rate=0.01, momentum=0.0, nesterov=False, weight_decay=None, clipnorm=None, clipvalue=None, global_clipnorm=None, use_ema=False, ema_momentum=0.99, ema_overwrite_frequency=None, jit_compile=True, name='SGD', **kwargs)\n",
      " |  \n",
      " |  Gradient descent (with momentum) optimizer.\n",
      " |  \n",
      " |  Update rule for parameter `w` with gradient `g` when `momentum` is 0:\n",
      " |  \n",
      " |  ```python\n",
      " |  w = w - learning_rate * g\n",
      " |  ```\n",
      " |  \n",
      " |  Update rule when `momentum` is larger than 0:\n",
      " |  \n",
      " |  ```python\n",
      " |  velocity = momentum * velocity - learning_rate * g\n",
      " |  w = w + velocity\n",
      " |  ```\n",
      " |  \n",
      " |  When `nesterov=True`, this rule becomes:\n",
      " |  \n",
      " |  ```python\n",
      " |  velocity = momentum * velocity - learning_rate * g\n",
      " |  w = w + momentum * velocity - learning_rate * g\n",
      " |  ```\n",
      " |  \n",
      " |  Args:\n",
      " |      learning_rate: A `Tensor`, floating point value, or a schedule that is a\n",
      " |          `keras.optimizers.schedules.LearningRateSchedule`, or a callable\n",
      " |          that takes no arguments and returns the actual value to use. The\n",
      " |          learning rate. Defaults to 0.001.\n",
      " |      momentum: float hyperparameter >= 0 that accelerates gradient descent in\n",
      " |          the relevant direction and dampens oscillations.\n",
      " |          Defaults to 0, i.e., vanilla gradient descent.\n",
      " |      nesterov: boolean. Whether to apply Nesterov momentum.\n",
      " |          Defaults to `False`.\n",
      " |    name: String. The name to use\n",
      " |        for momentum accumulator weights created by\n",
      " |        the optimizer.\n",
      " |    weight_decay: Float, defaults to None. If set, weight decay is applied.\n",
      " |    clipnorm: Float. If set, the gradient of each weight is individually\n",
      " |        clipped so that its norm is no higher than this value.\n",
      " |    clipvalue: Float. If set, the gradient of each weight is clipped to be no\n",
      " |        higher than this value.\n",
      " |    global_clipnorm: Float. If set, the gradient of all weights is clipped so\n",
      " |        that their global norm is no higher than this value.\n",
      " |    use_ema: Boolean, defaults to False. If True, exponential moving average\n",
      " |        (EMA) is applied. EMA consists of computing an exponential moving\n",
      " |        average of the weights of the model (as the weight values change after\n",
      " |        each training batch), and periodically overwriting the weights with\n",
      " |        their moving average.\n",
      " |    ema_momentum: Float, defaults to 0.99. Only used if `use_ema=True`.\n",
      " |        This is the momentum to use when computing\n",
      " |        the EMA of the model's weights:\n",
      " |        `new_average = ema_momentum * old_average + (1 - ema_momentum) *\n",
      " |        current_variable_value`.\n",
      " |    ema_overwrite_frequency: Int or None, defaults to None. Only used if\n",
      " |        `use_ema=True`. Every `ema_overwrite_frequency` steps of iterations,\n",
      " |        we overwrite the model variable by its moving average.\n",
      " |        If None, the optimizer\n",
      " |        does not overwrite model variables in the middle of training, and you\n",
      " |        need to explicitly overwrite the variables at the end of training\n",
      " |        by calling `optimizer.finalize_variable_values()`\n",
      " |        (which updates the model\n",
      " |        variables in-place). When using the built-in `fit()` training loop,\n",
      " |        this happens automatically after the last epoch,\n",
      " |        and you don't need to do anything.\n",
      " |    jit_compile: Boolean, defaults to True.\n",
      " |        If True, the optimizer will use XLA\n",
      " |        compilation. If no GPU device is found, this flag will be ignored.\n",
      " |    mesh: optional `tf.experimental.dtensor.Mesh` instance. When provided,\n",
      " |        the optimizer will be run in DTensor mode, e.g. state\n",
      " |        tracking variable will be a DVariable, and aggregation/reduction will\n",
      " |        happen in the global DTensor context.\n",
      " |    **kwargs: keyword arguments only used for backward compatibility.\n",
      " |  \n",
      " |  Usage:\n",
      " |  \n",
      " |  >>> opt = tf.keras.optimizers.SGD(learning_rate=0.1)\n",
      " |  >>> var = tf.Variable(1.0)\n",
      " |  >>> loss = lambda: (var ** 2)/2.0         # d(loss)/d(var1) = var1\n",
      " |  >>> opt.minimize(loss, [var])\n",
      " |  >>> # Step is `- learning_rate * grad`\n",
      " |  >>> var.numpy()\n",
      " |  0.9\n",
      " |  \n",
      " |  >>> opt = tf.keras.optimizers.SGD(0.1, momentum=0.9)\n",
      " |  >>> var = tf.Variable(1.0)\n",
      " |  >>> val0 = var.value()\n",
      " |  >>> loss = lambda: (var ** 2)/2.0         # d(loss)/d(var1) = var1\n",
      " |  >>> # First step is `- learning_rate * grad`\n",
      " |  >>> opt.minimize(loss, [var])\n",
      " |  >>> val1 = var.value()\n",
      " |  >>> (val0 - val1).numpy()\n",
      " |  0.1\n",
      " |  >>> # On later steps, step-size increases because of momentum\n",
      " |  >>> opt.minimize(loss, [var])\n",
      " |  >>> val2 = var.value()\n",
      " |  >>> (val1 - val2).numpy()\n",
      " |  0.18\n",
      " |  \n",
      " |  Reference:\n",
      " |      - For `nesterov=True`, See [Sutskever et al., 2013](\n",
      " |        http://proceedings.mlr.press/v28/sutskever13.pdf).\n",
      " |  \n",
      " |  Method resolution order:\n",
      " |      SGD\n",
      " |      keras.src.optimizers.optimizer.Optimizer\n",
      " |      keras.src.optimizers.optimizer._BaseOptimizer\n",
      " |      tensorflow.python.trackable.autotrackable.AutoTrackable\n",
      " |      tensorflow.python.trackable.base.Trackable\n",
      " |      builtins.object\n",
      " |  \n",
      " |  Methods defined here:\n",
      " |  \n",
      " |  __init__(self, learning_rate=0.01, momentum=0.0, nesterov=False, weight_decay=None, clipnorm=None, clipvalue=None, global_clipnorm=None, use_ema=False, ema_momentum=0.99, ema_overwrite_frequency=None, jit_compile=True, name='SGD', **kwargs)\n",
      " |      Create a new Optimizer.\n",
      " |  \n",
      " |  build(self, var_list)\n",
      " |      Initialize optimizer variables.\n",
      " |      \n",
      " |      SGD optimizer has one variable `momentums`, only set if `self.momentum`\n",
      " |      is not 0.\n",
      " |      \n",
      " |      Args:\n",
      " |        var_list: list of model variables to build SGD variables on.\n",
      " |  \n",
      " |  get_config(self)\n",
      " |      Returns the config of the optimizer.\n",
      " |      \n",
      " |      An optimizer config is a Python dictionary (serializable)\n",
      " |      containing the configuration of an optimizer.\n",
      " |      The same optimizer can be reinstantiated later\n",
      " |      (without any saved state) from this configuration.\n",
      " |      \n",
      " |      Subclass optimizer should override this method to include other\n",
      " |      hyperparameters.\n",
      " |      \n",
      " |      Returns:\n",
      " |          Python dictionary.\n",
      " |  \n",
      " |  update_step(self, gradient, variable)\n",
      " |      Update step given gradient and the associated model variable.\n",
      " |  \n",
      " |  ----------------------------------------------------------------------\n",
      " |  Methods inherited from keras.src.optimizers.optimizer.Optimizer:\n",
      " |  \n",
      " |  add_variable_from_reference(self, model_variable, variable_name, shape=None, initial_value=None)\n",
      " |      Create an optimizer variable from model variable.\n",
      " |      \n",
      " |      Create an optimizer variable based on the information of model variable.\n",
      " |      For example, in SGD optimizer momemtum, for each model variable, a\n",
      " |      corresponding momemtum variable is created of the same shape and dtype.\n",
      " |      \n",
      " |      Args:\n",
      " |        model_variable: tf.Variable. The corresponding model variable to the\n",
      " |          optimizer variable to be created.\n",
      " |        variable_name: String. The name prefix of the optimizer variable to be\n",
      " |          created. The create variables name will follow the pattern\n",
      " |          `{variable_name}/{model_variable.name}`, e.g., `momemtum/dense_1`.\n",
      " |        shape: List or Tuple, defaults to None. The shape of the optimizer\n",
      " |          variable to be created. If None, the created variable will have the\n",
      " |          same shape as `model_variable`.\n",
      " |        initial_value: A Tensor, or Python object convertible to a Tensor,\n",
      " |          defaults to None. The initial value of the optimizer variable, if\n",
      " |          None, the initial value will be default to 0.\n",
      " |      \n",
      " |      Returns:\n",
      " |        An optimizer variable.\n",
      " |  \n",
      " |  aggregate_gradients(self, grads_and_vars)\n",
      " |      Aggregate gradients on all devices.\n",
      " |      \n",
      " |      By default, we will perform reduce_sum of gradients across devices.\n",
      " |      Users can implement their own aggregation logic by overriding this\n",
      " |      method.\n",
      " |      \n",
      " |      Args:\n",
      " |        grads_and_vars: List of (gradient, variable) pairs.\n",
      " |      \n",
      " |      Returns:\n",
      " |        List of (gradient, variable) pairs.\n",
      " |  \n",
      " |  apply_gradients(self, grads_and_vars, name=None, skip_gradients_aggregation=False, **kwargs)\n",
      " |      Apply gradients to variables.\n",
      " |      \n",
      " |      Args:\n",
      " |        grads_and_vars: List of `(gradient, variable)` pairs.\n",
      " |        name: string, defaults to None. The name of the namescope to\n",
      " |          use when creating variables. If None, `self.name` will be used.\n",
      " |        skip_gradients_aggregation: If true, gradients aggregation will not be\n",
      " |          performed inside optimizer. Usually this arg is set to True when you\n",
      " |          write custom code aggregating gradients outside the optimizer.\n",
      " |        **kwargs: keyword arguments only used for backward compatibility.\n",
      " |      \n",
      " |      Returns:\n",
      " |        A `tf.Variable`, representing the current iteration.\n",
      " |      \n",
      " |      Raises:\n",
      " |        TypeError: If `grads_and_vars` is malformed.\n",
      " |        RuntimeError: If called in a cross-replica context.\n",
      " |  \n",
      " |  ----------------------------------------------------------------------\n",
      " |  Methods inherited from keras.src.optimizers.optimizer._BaseOptimizer:\n",
      " |  \n",
      " |  add_variable(self, shape, dtype=None, initializer='zeros', name=None)\n",
      " |      Create an optimizer variable.\n",
      " |      \n",
      " |      Args:\n",
      " |        shape: A list of integers, a tuple of integers, or a 1-D Tensor of\n",
      " |          type int32. Defaults to scalar if unspecified.\n",
      " |        dtype: The DType of the optimizer variable to be created. Defaults to\n",
      " |          `tf.keras.backend.floatx` if unspecified.\n",
      " |        initializer: string or callable. Initializer instance.\n",
      " |        name: The name of the optimizer variable to be created.\n",
      " |      \n",
      " |      Returns:\n",
      " |        An optimizer variable, in the format of tf.Variable.\n",
      " |  \n",
      " |  compute_gradients(self, loss, var_list, tape=None)\n",
      " |      Compute gradients of loss on trainable variables.\n",
      " |      \n",
      " |      Args:\n",
      " |        loss: `Tensor` or callable. If a callable, `loss` should take no\n",
      " |          arguments and return the value to minimize.\n",
      " |        var_list: list or tuple of `Variable` objects to update to minimize\n",
      " |          `loss`, or a callable returning the list or tuple of `Variable`\n",
      " |          objects. Use callable when the variable list would otherwise be\n",
      " |          incomplete before `minimize` since the variables are created at the\n",
      " |          first time `loss` is called.\n",
      " |        tape: (Optional) `tf.GradientTape`. If `loss` is provided as a\n",
      " |          `Tensor`, the tape that computed the `loss` must be provided.\n",
      " |      \n",
      " |      Returns:\n",
      " |        A list of (gradient, variable) pairs. Variable is always present, but\n",
      " |        gradient can be `None`.\n",
      " |  \n",
      " |  exclude_from_weight_decay(self, var_list=None, var_names=None)\n",
      " |      Exclude variables from weight decay.\n",
      " |      \n",
      " |      This method must be called before the optimizer's `build` method is\n",
      " |      called. You can set specific variables to exclude out, or set a list of\n",
      " |      strings as the anchor words, if any of which appear in a variable's\n",
      " |      name, then the variable is excluded.\n",
      " |      \n",
      " |      Args:\n",
      " |          var_list: A list of `tf.Variable`s to exclude from weight decay.\n",
      " |          var_names: A list of strings. If any string in `var_names` appear\n",
      " |              in the model variable's name, then this model variable is\n",
      " |              excluded from weight decay. For example, `var_names=['bias']`\n",
      " |              excludes all bias variables from weight decay.\n",
      " |  \n",
      " |  finalize_variable_values(self, var_list)\n",
      " |      Set the final value of model's trainable variables.\n",
      " |      \n",
      " |      Sometimes there are some extra steps before ending the variable updates,\n",
      " |      such as overriding the model variables with its average value.\n",
      " |      \n",
      " |      Args:\n",
      " |        var_list: list of model variables.\n",
      " |  \n",
      " |  load_own_variables(self, store)\n",
      " |      Set the state of this optimizer object.\n",
      " |  \n",
      " |  minimize(self, loss, var_list, tape=None)\n",
      " |      Minimize `loss` by updating `var_list`.\n",
      " |      \n",
      " |      This method simply computes gradient using `tf.GradientTape` and calls\n",
      " |      `apply_gradients()`. If you want to process the gradient before applying\n",
      " |      then call `tf.GradientTape` and `apply_gradients()` explicitly instead\n",
      " |      of using this function.\n",
      " |      \n",
      " |      Args:\n",
      " |        loss: `Tensor` or callable. If a callable, `loss` should take no\n",
      " |          arguments and return the value to minimize.\n",
      " |        var_list: list or tuple of `Variable` objects to update to minimize\n",
      " |          `loss`, or a callable returning the list or tuple of `Variable`\n",
      " |          objects.  Use callable when the variable list would otherwise be\n",
      " |          incomplete before `minimize` since the variables are created at the\n",
      " |          first time `loss` is called.\n",
      " |        tape: (Optional) `tf.GradientTape`.\n",
      " |      \n",
      " |      Returns:\n",
      " |        None\n",
      " |  \n",
      " |  save_own_variables(self, store)\n",
      " |      Get the state of this optimizer object.\n",
      " |  \n",
      " |  set_weights(self, weights)\n",
      " |      Set the weights of the optimizer.\n",
      " |      \n",
      " |      Args:\n",
      " |          weights: a list of `tf.Variable`s or numpy arrays, the target values\n",
      " |              of optimizer variables. It should have the same order as\n",
      " |              `self._variables`.\n",
      " |  \n",
      " |  ----------------------------------------------------------------------\n",
      " |  Class methods inherited from keras.src.optimizers.optimizer._BaseOptimizer:\n",
      " |  \n",
      " |  from_config(config, custom_objects=None) from builtins.type\n",
      " |      Creates an optimizer from its config.\n",
      " |      \n",
      " |      This method is the reverse of `get_config`, capable of instantiating the\n",
      " |      same optimizer from the config dictionary.\n",
      " |      \n",
      " |      Args:\n",
      " |          config: A Python dictionary, typically the output of get_config.\n",
      " |          custom_objects: A Python dictionary mapping names to additional\n",
      " |            user-defined Python objects needed to recreate this optimizer.\n",
      " |      \n",
      " |      Returns:\n",
      " |          An optimizer instance.\n",
      " |  \n",
      " |  ----------------------------------------------------------------------\n",
      " |  Readonly properties inherited from keras.src.optimizers.optimizer._BaseOptimizer:\n",
      " |  \n",
      " |  variables\n",
      " |      Returns variables of this optimizer.\n",
      " |  \n",
      " |  ----------------------------------------------------------------------\n",
      " |  Data descriptors inherited from keras.src.optimizers.optimizer._BaseOptimizer:\n",
      " |  \n",
      " |  iterations\n",
      " |      The number of training steps this `optimizer` has run.\n",
      " |      \n",
      " |      By default, iterations would be incremented by one every time\n",
      " |      `apply_gradients()` is called.\n",
      " |  \n",
      " |  learning_rate\n",
      " |  \n",
      " |  lr\n",
      " |      Alias of `learning_rate()`.\n",
      " |      \n",
      " |      `lr()` is heavily called in workflows using `optimizer_v2.OptimizerV2`,\n",
      " |      so we keep it for backward compabitliy.\n",
      " |  \n",
      " |  ----------------------------------------------------------------------\n",
      " |  Methods inherited from tensorflow.python.trackable.autotrackable.AutoTrackable:\n",
      " |  \n",
      " |  __delattr__(self, name)\n",
      " |      Implement delattr(self, name).\n",
      " |  \n",
      " |  __setattr__(self, name, value)\n",
      " |      Support self.foo = trackable syntax.\n",
      " |  \n",
      " |  ----------------------------------------------------------------------\n",
      " |  Data descriptors inherited from tensorflow.python.trackable.base.Trackable:\n",
      " |  \n",
      " |  __dict__\n",
      " |      dictionary for instance variables (if defined)\n",
      " |  \n",
      " |  __weakref__\n",
      " |      list of weak references to the object (if defined)\n",
      "\n"
     ]
    }
   ],
   "source": [
    "from keras.optimizers import SGD\n",
    "\n",
    "# Get help on the SGD class\n",
    "help(SGD)"
   ]
  },
  {
   "cell_type": "markdown",
   "metadata": {},
   "source": [
    "Learning rate of 0.001"
   ]
  },
  {
   "cell_type": "code",
   "execution_count": 36,
   "metadata": {},
   "outputs": [
    {
     "name": "stdout",
     "output_type": "stream",
     "text": [
      "Model: \"sequential_7\"\n",
      "_________________________________________________________________\n",
      " Layer (type)                Output Shape              Param #   \n",
      "=================================================================\n",
      " dense_21 (Dense)            (None, 64)                4160      \n",
      "                                                                 \n",
      " dense_22 (Dense)            (None, 64)                4160      \n",
      "                                                                 \n",
      " dense_23 (Dense)            (None, 10)                650       \n",
      "                                                                 \n",
      "=================================================================\n",
      "Total params: 8970 (35.04 KB)\n",
      "Trainable params: 8970 (35.04 KB)\n",
      "Non-trainable params: 0 (0.00 Byte)\n",
      "_________________________________________________________________\n"
     ]
    },
    {
     "name": "stderr",
     "output_type": "stream",
     "text": [
      "WARNING:absl:At this time, the v2.11+ optimizer `tf.keras.optimizers.SGD` runs slowly on M1/M2 Macs, please use the legacy Keras optimizer instead, located at `tf.keras.optimizers.legacy.SGD`.\n"
     ]
    },
    {
     "name": "stdout",
     "output_type": "stream",
     "text": [
      "Epoch 1/15\n",
      "36/36 [==============================] - 0s 2ms/step - loss: 3.5210 - accuracy: 0.1775 - val_loss: 2.5677 - val_accuracy: 0.2847\n",
      "Epoch 2/15\n",
      "36/36 [==============================] - 0s 797us/step - loss: 1.9088 - accuracy: 0.3577 - val_loss: 1.7543 - val_accuracy: 0.4062\n",
      "Epoch 3/15\n",
      "36/36 [==============================] - 0s 673us/step - loss: 1.3643 - accuracy: 0.5265 - val_loss: 1.3758 - val_accuracy: 0.5417\n",
      "Epoch 4/15\n",
      "36/36 [==============================] - 0s 1ms/step - loss: 1.0770 - accuracy: 0.6406 - val_loss: 1.1587 - val_accuracy: 0.6389\n",
      "Epoch 5/15\n",
      "36/36 [==============================] - 0s 661us/step - loss: 0.8962 - accuracy: 0.7189 - val_loss: 1.0038 - val_accuracy: 0.6875\n",
      "Epoch 6/15\n",
      "36/36 [==============================] - 0s 714us/step - loss: 0.7713 - accuracy: 0.7685 - val_loss: 0.8997 - val_accuracy: 0.7326\n",
      "Epoch 7/15\n",
      "36/36 [==============================] - 0s 689us/step - loss: 0.6827 - accuracy: 0.8016 - val_loss: 0.8221 - val_accuracy: 0.7465\n",
      "Epoch 8/15\n",
      "36/36 [==============================] - 0s 677us/step - loss: 0.6119 - accuracy: 0.8294 - val_loss: 0.7652 - val_accuracy: 0.7743\n",
      "Epoch 9/15\n",
      "36/36 [==============================] - 0s 678us/step - loss: 0.5558 - accuracy: 0.8451 - val_loss: 0.7105 - val_accuracy: 0.8021\n",
      "Epoch 10/15\n",
      "36/36 [==============================] - 0s 672us/step - loss: 0.5074 - accuracy: 0.8642 - val_loss: 0.6818 - val_accuracy: 0.8160\n",
      "Epoch 11/15\n",
      "36/36 [==============================] - 0s 701us/step - loss: 0.4675 - accuracy: 0.8695 - val_loss: 0.6378 - val_accuracy: 0.8160\n",
      "Epoch 12/15\n",
      "36/36 [==============================] - 0s 677us/step - loss: 0.4355 - accuracy: 0.8816 - val_loss: 0.6132 - val_accuracy: 0.8229\n",
      "Epoch 13/15\n",
      "36/36 [==============================] - 0s 685us/step - loss: 0.4053 - accuracy: 0.8877 - val_loss: 0.5902 - val_accuracy: 0.8368\n",
      "Epoch 14/15\n",
      "36/36 [==============================] - 0s 658us/step - loss: 0.3789 - accuracy: 0.9034 - val_loss: 0.5746 - val_accuracy: 0.8438\n",
      "Epoch 15/15\n",
      "36/36 [==============================] - 0s 700us/step - loss: 0.3566 - accuracy: 0.9043 - val_loss: 0.5499 - val_accuracy: 0.8576\n"
     ]
    },
    {
     "data": {
      "text/plain": [
       "<keras.src.callbacks.History at 0x332f61250>"
      ]
     },
     "execution_count": 36,
     "metadata": {},
     "output_type": "execute_result"
    }
   ],
   "source": [
    "from  tensorflow.keras import optimizers\n",
    "\n",
    "model = Sequential()\n",
    "\n",
    "# Input layer\n",
    "model.add(Dense(64, activation='relu', input_shape=(64,))) # 64 neurons, ReLU activation, input shape of 64\n",
    "\n",
    "# Hidden layer\n",
    "model.add(Dense(64, activation='relu')) # 64 neurons, ReLU activation\n",
    "\n",
    "# Output layer\n",
    "model.add(Dense(10, activation='softmax')) # 10 neurons, softmax activation\n",
    "\n",
    "model.summary()\n",
    "\n",
    "model.compile(optimizer=optimizers.SGD(learning_rate=0.001), # Optimizer\n",
    "    loss='categorical_crossentropy', # Loss function\n",
    "    metrics=['accuracy'] # Metrics to evaluate the model\n",
    ")\n",
    "\n",
    "model.fit(\n",
    "    X_train, # Training data\n",
    "    y_train, # Training labels\n",
    "    epochs=15, # Number of epochs\n",
    "    batch_size=32, # Number of samples per batch\n",
    "    validation_split=0.2 # Use 20% of the data for validation\n",
    ")"
   ]
  },
  {
   "cell_type": "markdown",
   "metadata": {},
   "source": [
    "Learning rate of 0.0001"
   ]
  },
  {
   "cell_type": "code",
   "execution_count": 37,
   "metadata": {},
   "outputs": [
    {
     "name": "stdout",
     "output_type": "stream",
     "text": [
      "Model: \"sequential_8\"\n",
      "_________________________________________________________________\n",
      " Layer (type)                Output Shape              Param #   \n",
      "=================================================================\n",
      " dense_24 (Dense)            (None, 64)                4160      \n",
      "                                                                 \n",
      " dense_25 (Dense)            (None, 64)                4160      \n",
      "                                                                 \n",
      " dense_26 (Dense)            (None, 10)                650       \n",
      "                                                                 \n",
      "=================================================================\n",
      "Total params: 8970 (35.04 KB)\n",
      "Trainable params: 8970 (35.04 KB)\n",
      "Non-trainable params: 0 (0.00 Byte)\n",
      "_________________________________________________________________\n"
     ]
    },
    {
     "name": "stderr",
     "output_type": "stream",
     "text": [
      "WARNING:absl:At this time, the v2.11+ optimizer `tf.keras.optimizers.SGD` runs slowly on M1/M2 Macs, please use the legacy Keras optimizer instead, located at `tf.keras.optimizers.legacy.SGD`.\n"
     ]
    },
    {
     "name": "stdout",
     "output_type": "stream",
     "text": [
      "Epoch 1/15\n",
      "36/36 [==============================] - 0s 2ms/step - loss: 6.2324 - accuracy: 0.1184 - val_loss: 5.0202 - val_accuracy: 0.1458\n",
      "Epoch 2/15\n",
      "36/36 [==============================] - 0s 885us/step - loss: 4.7588 - accuracy: 0.1131 - val_loss: 4.1492 - val_accuracy: 0.1389\n",
      "Epoch 3/15\n",
      "36/36 [==============================] - 0s 701us/step - loss: 4.0157 - accuracy: 0.1462 - val_loss: 3.6075 - val_accuracy: 0.1806\n",
      "Epoch 4/15\n",
      "36/36 [==============================] - 0s 703us/step - loss: 3.5432 - accuracy: 0.1688 - val_loss: 3.2461 - val_accuracy: 0.2014\n",
      "Epoch 5/15\n",
      "36/36 [==============================] - 0s 697us/step - loss: 3.2124 - accuracy: 0.1984 - val_loss: 2.9798 - val_accuracy: 0.2257\n",
      "Epoch 6/15\n",
      "36/36 [==============================] - 0s 722us/step - loss: 2.9575 - accuracy: 0.2228 - val_loss: 2.7740 - val_accuracy: 0.2396\n",
      "Epoch 7/15\n",
      "36/36 [==============================] - 0s 674us/step - loss: 2.7496 - accuracy: 0.2419 - val_loss: 2.6089 - val_accuracy: 0.2465\n",
      "Epoch 8/15\n",
      "36/36 [==============================] - 0s 660us/step - loss: 2.5785 - accuracy: 0.2602 - val_loss: 2.4660 - val_accuracy: 0.2639\n",
      "Epoch 9/15\n",
      "36/36 [==============================] - 0s 641us/step - loss: 2.4293 - accuracy: 0.2802 - val_loss: 2.3367 - val_accuracy: 0.2917\n",
      "Epoch 10/15\n",
      "36/36 [==============================] - 0s 647us/step - loss: 2.2994 - accuracy: 0.3020 - val_loss: 2.2192 - val_accuracy: 0.3056\n",
      "Epoch 11/15\n",
      "36/36 [==============================] - 0s 673us/step - loss: 2.1823 - accuracy: 0.3220 - val_loss: 2.1099 - val_accuracy: 0.3264\n",
      "Epoch 12/15\n",
      "36/36 [==============================] - 0s 654us/step - loss: 2.0768 - accuracy: 0.3342 - val_loss: 2.0097 - val_accuracy: 0.3438\n",
      "Epoch 13/15\n",
      "36/36 [==============================] - 0s 690us/step - loss: 1.9795 - accuracy: 0.3560 - val_loss: 1.9177 - val_accuracy: 0.3681\n",
      "Epoch 14/15\n",
      "36/36 [==============================] - 0s 670us/step - loss: 1.8898 - accuracy: 0.3768 - val_loss: 1.8335 - val_accuracy: 0.3924\n",
      "Epoch 15/15\n",
      "36/36 [==============================] - 0s 993us/step - loss: 1.8075 - accuracy: 0.3943 - val_loss: 1.7556 - val_accuracy: 0.4062\n"
     ]
    },
    {
     "data": {
      "text/plain": [
       "<keras.src.callbacks.History at 0x332f21160>"
      ]
     },
     "execution_count": 37,
     "metadata": {},
     "output_type": "execute_result"
    }
   ],
   "source": [
    "from  tensorflow.keras import optimizers\n",
    "\n",
    "model = Sequential()\n",
    "\n",
    "# Input layer\n",
    "model.add(Dense(64, activation='relu', input_shape=(64,))) # 64 neurons, ReLU activation, input shape of 64\n",
    "\n",
    "# Hidden layer\n",
    "model.add(Dense(64, activation='relu')) # 64 neurons, ReLU activation\n",
    "\n",
    "# Output layer\n",
    "model.add(Dense(10, activation='softmax')) # 10 neurons, softmax activation\n",
    "\n",
    "model.summary()\n",
    "\n",
    "model.compile(optimizer=optimizers.SGD(learning_rate=0.0001), # Optimizer\n",
    "    loss='categorical_crossentropy', # Loss function\n",
    "    metrics=['accuracy'] # Metrics to evaluate the model\n",
    ")\n",
    "\n",
    "model.fit(\n",
    "    X_train, # Training data\n",
    "    y_train, # Training labels\n",
    "    epochs=15, # Number of epochs\n",
    "    batch_size=32, # Number of samples per batch\n",
    "    validation_split=0.2 # Use 20% of the data for validation\n",
    ")"
   ]
  },
  {
   "cell_type": "markdown",
   "metadata": {},
   "source": [
    "Learning rate of 0.1 (big steps)"
   ]
  },
  {
   "cell_type": "code",
   "execution_count": 38,
   "metadata": {},
   "outputs": [
    {
     "name": "stdout",
     "output_type": "stream",
     "text": [
      "Model: \"sequential_9\"\n",
      "_________________________________________________________________\n",
      " Layer (type)                Output Shape              Param #   \n",
      "=================================================================\n",
      " dense_27 (Dense)            (None, 64)                4160      \n",
      "                                                                 \n",
      " dense_28 (Dense)            (None, 64)                4160      \n",
      "                                                                 \n",
      " dense_29 (Dense)            (None, 10)                650       \n",
      "                                                                 \n",
      "=================================================================\n",
      "Total params: 8970 (35.04 KB)\n",
      "Trainable params: 8970 (35.04 KB)\n",
      "Non-trainable params: 0 (0.00 Byte)\n",
      "_________________________________________________________________\n"
     ]
    },
    {
     "name": "stderr",
     "output_type": "stream",
     "text": [
      "WARNING:absl:At this time, the v2.11+ optimizer `tf.keras.optimizers.SGD` runs slowly on M1/M2 Macs, please use the legacy Keras optimizer instead, located at `tf.keras.optimizers.legacy.SGD`.\n"
     ]
    },
    {
     "name": "stdout",
     "output_type": "stream",
     "text": [
      "Epoch 1/15\n",
      "36/36 [==============================] - 0s 2ms/step - loss: 5.9536 - accuracy: 0.1453 - val_loss: 2.3106 - val_accuracy: 0.0799\n",
      "Epoch 2/15\n",
      "36/36 [==============================] - 0s 770us/step - loss: 2.2834 - accuracy: 0.1184 - val_loss: 2.2866 - val_accuracy: 0.1007\n",
      "Epoch 3/15\n",
      "36/36 [==============================] - 0s 725us/step - loss: 2.2848 - accuracy: 0.1279 - val_loss: 2.3030 - val_accuracy: 0.0833\n",
      "Epoch 4/15\n",
      "36/36 [==============================] - 0s 670us/step - loss: 2.2535 - accuracy: 0.1314 - val_loss: 2.3175 - val_accuracy: 0.0868\n",
      "Epoch 5/15\n",
      "36/36 [==============================] - 0s 684us/step - loss: 2.3039 - accuracy: 0.0957 - val_loss: 2.3130 - val_accuracy: 0.0868\n",
      "Epoch 6/15\n",
      "36/36 [==============================] - 0s 724us/step - loss: 2.3026 - accuracy: 0.0923 - val_loss: 2.3110 - val_accuracy: 0.0833\n",
      "Epoch 7/15\n",
      "36/36 [==============================] - 0s 1ms/step - loss: 2.3017 - accuracy: 0.0940 - val_loss: 2.3075 - val_accuracy: 0.1111\n",
      "Epoch 8/15\n",
      "36/36 [==============================] - 0s 798us/step - loss: 2.3028 - accuracy: 0.1062 - val_loss: 2.3103 - val_accuracy: 0.0833\n",
      "Epoch 9/15\n",
      "36/36 [==============================] - 0s 663us/step - loss: 2.3023 - accuracy: 0.0853 - val_loss: 2.3097 - val_accuracy: 0.1076\n",
      "Epoch 10/15\n",
      "36/36 [==============================] - 0s 693us/step - loss: 2.3020 - accuracy: 0.1079 - val_loss: 2.3094 - val_accuracy: 0.0833\n",
      "Epoch 11/15\n",
      "36/36 [==============================] - 0s 736us/step - loss: 2.3010 - accuracy: 0.0870 - val_loss: 2.3033 - val_accuracy: 0.0903\n",
      "Epoch 12/15\n",
      "36/36 [==============================] - 0s 682us/step - loss: 2.2918 - accuracy: 0.1175 - val_loss: 2.2249 - val_accuracy: 0.1458\n",
      "Epoch 13/15\n",
      "36/36 [==============================] - 0s 702us/step - loss: 2.1941 - accuracy: 0.1723 - val_loss: 2.1210 - val_accuracy: 0.1632\n",
      "Epoch 14/15\n",
      "36/36 [==============================] - 0s 697us/step - loss: 2.0748 - accuracy: 0.1950 - val_loss: 2.0390 - val_accuracy: 0.1667\n",
      "Epoch 15/15\n",
      "36/36 [==============================] - 0s 690us/step - loss: 2.0376 - accuracy: 0.1993 - val_loss: 2.0827 - val_accuracy: 0.1806\n"
     ]
    },
    {
     "data": {
      "text/plain": [
       "<keras.src.callbacks.History at 0x3331a94c0>"
      ]
     },
     "execution_count": 38,
     "metadata": {},
     "output_type": "execute_result"
    }
   ],
   "source": [
    "from  tensorflow.keras import optimizers\n",
    "\n",
    "model = Sequential()\n",
    "\n",
    "# Input layer\n",
    "model.add(Dense(64, activation='relu', input_shape=(64,))) # 64 neurons, ReLU activation, input shape of 64\n",
    "\n",
    "# Hidden layer\n",
    "model.add(Dense(64, activation='relu')) # 64 neurons, ReLU activation\n",
    "\n",
    "# Output layer\n",
    "model.add(Dense(10, activation='softmax')) # 10 neurons, softmax activation\n",
    "\n",
    "model.summary()\n",
    "\n",
    "model.compile(optimizer=optimizers.SGD(learning_rate=0.1), # Optimizer\n",
    "    loss='categorical_crossentropy', # Loss function\n",
    "    metrics=['accuracy'] # Metrics to evaluate the model\n",
    ")\n",
    "\n",
    "model.fit(\n",
    "    X_train, # Training data\n",
    "    y_train, # Training labels\n",
    "    epochs=15, # Number of epochs\n",
    "    batch_size=32, # Number of samples per batch\n",
    "    validation_split=0.2 # Use 20% of the data for validation\n",
    ")"
   ]
  },
  {
   "cell_type": "markdown",
   "metadata": {},
   "source": [
    "Adding momentum (momentum = 0.9)"
   ]
  },
  {
   "cell_type": "code",
   "execution_count": 41,
   "metadata": {},
   "outputs": [
    {
     "name": "stdout",
     "output_type": "stream",
     "text": [
      "Model: \"sequential_12\"\n",
      "_________________________________________________________________\n",
      " Layer (type)                Output Shape              Param #   \n",
      "=================================================================\n",
      " dense_36 (Dense)            (None, 64)                4160      \n",
      "                                                                 \n",
      " dense_37 (Dense)            (None, 64)                4160      \n",
      "                                                                 \n",
      " dense_38 (Dense)            (None, 10)                650       \n",
      "                                                                 \n",
      "=================================================================\n",
      "Total params: 8970 (35.04 KB)\n",
      "Trainable params: 8970 (35.04 KB)\n",
      "Non-trainable params: 0 (0.00 Byte)\n",
      "_________________________________________________________________\n"
     ]
    },
    {
     "name": "stderr",
     "output_type": "stream",
     "text": [
      "WARNING:absl:At this time, the v2.11+ optimizer `tf.keras.optimizers.SGD` runs slowly on M1/M2 Macs, please use the legacy Keras optimizer instead, located at `tf.keras.optimizers.legacy.SGD`.\n"
     ]
    },
    {
     "name": "stdout",
     "output_type": "stream",
     "text": [
      "Epoch 1/15\n",
      "36/36 [==============================] - 1s 13ms/step - loss: 1.1471 - accuracy: 0.6754 - val_loss: 0.4480 - val_accuracy: 0.8507\n",
      "Epoch 2/15\n",
      "36/36 [==============================] - 0s 740us/step - loss: 0.3266 - accuracy: 0.8964 - val_loss: 0.3085 - val_accuracy: 0.9062\n",
      "Epoch 3/15\n",
      "36/36 [==============================] - 0s 680us/step - loss: 0.2230 - accuracy: 0.9286 - val_loss: 0.2123 - val_accuracy: 0.9271\n",
      "Epoch 4/15\n",
      "36/36 [==============================] - 0s 646us/step - loss: 0.1234 - accuracy: 0.9591 - val_loss: 0.1818 - val_accuracy: 0.9340\n",
      "Epoch 5/15\n",
      "36/36 [==============================] - 0s 687us/step - loss: 0.0595 - accuracy: 0.9800 - val_loss: 0.0964 - val_accuracy: 0.9618\n",
      "Epoch 6/15\n",
      "36/36 [==============================] - 0s 653us/step - loss: 0.0682 - accuracy: 0.9809 - val_loss: 0.1092 - val_accuracy: 0.9514\n",
      "Epoch 7/15\n",
      "36/36 [==============================] - 0s 664us/step - loss: 0.0717 - accuracy: 0.9774 - val_loss: 0.1590 - val_accuracy: 0.9549\n",
      "Epoch 8/15\n",
      "36/36 [==============================] - 0s 1ms/step - loss: 0.0341 - accuracy: 0.9861 - val_loss: 0.0969 - val_accuracy: 0.9653\n",
      "Epoch 9/15\n",
      "36/36 [==============================] - 0s 670us/step - loss: 0.0151 - accuracy: 0.9965 - val_loss: 0.0921 - val_accuracy: 0.9722\n",
      "Epoch 10/15\n",
      "36/36 [==============================] - 0s 707us/step - loss: 0.0087 - accuracy: 0.9983 - val_loss: 0.1016 - val_accuracy: 0.9549\n",
      "Epoch 11/15\n",
      "36/36 [==============================] - 0s 656us/step - loss: 0.0077 - accuracy: 0.9965 - val_loss: 0.0853 - val_accuracy: 0.9757\n",
      "Epoch 12/15\n",
      "36/36 [==============================] - 0s 666us/step - loss: 0.0056 - accuracy: 0.9991 - val_loss: 0.1020 - val_accuracy: 0.9722\n",
      "Epoch 13/15\n",
      "36/36 [==============================] - 0s 680us/step - loss: 0.0032 - accuracy: 1.0000 - val_loss: 0.0932 - val_accuracy: 0.9757\n",
      "Epoch 14/15\n",
      "36/36 [==============================] - 0s 695us/step - loss: 0.0024 - accuracy: 1.0000 - val_loss: 0.0983 - val_accuracy: 0.9653\n",
      "Epoch 15/15\n",
      "36/36 [==============================] - 0s 676us/step - loss: 0.0020 - accuracy: 1.0000 - val_loss: 0.0945 - val_accuracy: 0.9722\n"
     ]
    },
    {
     "data": {
      "text/plain": [
       "<keras.src.callbacks.History at 0x3348c13a0>"
      ]
     },
     "execution_count": 41,
     "metadata": {},
     "output_type": "execute_result"
    }
   ],
   "source": [
    "from  tensorflow.keras import optimizers\n",
    "\n",
    "model = Sequential()\n",
    "\n",
    "# Input layer\n",
    "model.add(Dense(64, activation='relu', input_shape=(64,))) # 64 neurons, ReLU activation, input shape of 64\n",
    "\n",
    "# Hidden layer\n",
    "model.add(Dense(64, activation='relu')) # 64 neurons, ReLU activation\n",
    "\n",
    "# Output layer\n",
    "model.add(Dense(10, activation='softmax')) # 10 neurons, softmax activation\n",
    "\n",
    "model.summary()\n",
    "\n",
    "model.compile(optimizer=optimizers.SGD(learning_rate=0.01, momentum=0.9), # Optimizer\n",
    "    loss='categorical_crossentropy', # Loss function\n",
    "    metrics=['accuracy'] # Metrics to evaluate the model\n",
    ")\n",
    "\n",
    "model.fit(\n",
    "    X_train, # Training data\n",
    "    y_train, # Training labels\n",
    "    epochs=15, # Number of epochs\n",
    "    batch_size=32, # Number of samples per batch\n",
    "    validation_split=0.2 # Use 20% of the data for validation\n",
    ")"
   ]
  },
  {
   "cell_type": "markdown",
   "metadata": {},
   "source": [
    "Next, let's try a more advanced optimizer. Adam is likely the most popular optimizer for deep learning. It is an adaptive learning rate optimizer, which means that it automatically adjusts the learning rate based on how the training is going. This can be very useful, as it means that we don't need to manually tune the learning rate. Let's see how it performs on our model.\n",
    "\n",
    "\n",
    "1. Replace the SGD optimizer by the Adam optimizer from keras and run it\n",
    "  with the default parameters.\n",
    "\n",
    "2. Add another hidden layer with ReLU activation and 64 neurons. Does it improve the model performance?\n"
   ]
  },
  {
   "cell_type": "markdown",
   "metadata": {},
   "source": [
    "Adam optimizer: loss: 0.0843 - accuracy: 0.9748 is less effective than using sgd with default values (loss: 0.0233 - accuracy: 0.9991)"
   ]
  },
  {
   "cell_type": "code",
   "execution_count": 42,
   "metadata": {},
   "outputs": [
    {
     "name": "stdout",
     "output_type": "stream",
     "text": [
      "Model: \"sequential_13\"\n",
      "_________________________________________________________________\n",
      " Layer (type)                Output Shape              Param #   \n",
      "=================================================================\n",
      " dense_39 (Dense)            (None, 64)                4160      \n",
      "                                                                 \n",
      " dense_40 (Dense)            (None, 64)                4160      \n",
      "                                                                 \n",
      " dense_41 (Dense)            (None, 10)                650       \n",
      "                                                                 \n",
      "=================================================================\n",
      "Total params: 8970 (35.04 KB)\n",
      "Trainable params: 8970 (35.04 KB)\n",
      "Non-trainable params: 0 (0.00 Byte)\n",
      "_________________________________________________________________\n"
     ]
    },
    {
     "name": "stderr",
     "output_type": "stream",
     "text": [
      "WARNING:absl:At this time, the v2.11+ optimizer `tf.keras.optimizers.Adam` runs slowly on M1/M2 Macs, please use the legacy Keras optimizer instead, located at `tf.keras.optimizers.legacy.Adam`.\n"
     ]
    },
    {
     "name": "stdout",
     "output_type": "stream",
     "text": [
      "Epoch 1/15\n",
      "36/36 [==============================] - 0s 2ms/step - loss: 1.3194 - accuracy: 0.6614 - val_loss: 0.3064 - val_accuracy: 0.9132\n",
      "Epoch 2/15\n",
      "36/36 [==============================] - 0s 799us/step - loss: 0.2247 - accuracy: 0.9269 - val_loss: 0.3625 - val_accuracy: 0.8924\n",
      "Epoch 3/15\n",
      "36/36 [==============================] - 0s 725us/step - loss: 0.1242 - accuracy: 0.9565 - val_loss: 0.1529 - val_accuracy: 0.9549\n",
      "Epoch 4/15\n",
      "36/36 [==============================] - 0s 709us/step - loss: 0.0723 - accuracy: 0.9765 - val_loss: 0.1550 - val_accuracy: 0.9583\n",
      "Epoch 5/15\n",
      "36/36 [==============================] - 0s 758us/step - loss: 0.0797 - accuracy: 0.9669 - val_loss: 0.2193 - val_accuracy: 0.9410\n",
      "Epoch 6/15\n",
      "36/36 [==============================] - 0s 710us/step - loss: 0.0770 - accuracy: 0.9730 - val_loss: 0.1413 - val_accuracy: 0.9722\n",
      "Epoch 7/15\n",
      "36/36 [==============================] - 0s 679us/step - loss: 0.0683 - accuracy: 0.9835 - val_loss: 0.1216 - val_accuracy: 0.9688\n",
      "Epoch 8/15\n",
      "36/36 [==============================] - 0s 700us/step - loss: 0.0650 - accuracy: 0.9748 - val_loss: 0.1725 - val_accuracy: 0.9653\n",
      "Epoch 9/15\n",
      "36/36 [==============================] - 0s 685us/step - loss: 0.0674 - accuracy: 0.9782 - val_loss: 0.3055 - val_accuracy: 0.9375\n",
      "Epoch 10/15\n",
      "36/36 [==============================] - 0s 732us/step - loss: 0.0621 - accuracy: 0.9774 - val_loss: 0.1596 - val_accuracy: 0.9549\n",
      "Epoch 11/15\n",
      "36/36 [==============================] - 0s 672us/step - loss: 0.0607 - accuracy: 0.9800 - val_loss: 0.3353 - val_accuracy: 0.9271\n",
      "Epoch 12/15\n",
      "36/36 [==============================] - 0s 695us/step - loss: 0.1448 - accuracy: 0.9600 - val_loss: 0.2571 - val_accuracy: 0.9375\n",
      "Epoch 13/15\n",
      "36/36 [==============================] - 0s 712us/step - loss: 0.0743 - accuracy: 0.9817 - val_loss: 0.3371 - val_accuracy: 0.9549\n",
      "Epoch 14/15\n",
      "36/36 [==============================] - 0s 686us/step - loss: 0.0875 - accuracy: 0.9695 - val_loss: 0.2298 - val_accuracy: 0.9306\n",
      "Epoch 15/15\n",
      "36/36 [==============================] - 0s 704us/step - loss: 0.0843 - accuracy: 0.9748 - val_loss: 0.2477 - val_accuracy: 0.9444\n"
     ]
    },
    {
     "data": {
      "text/plain": [
       "<keras.src.callbacks.History at 0x333e56c10>"
      ]
     },
     "execution_count": 42,
     "metadata": {},
     "output_type": "execute_result"
    }
   ],
   "source": [
    "from  tensorflow.keras import optimizers\n",
    "from tensorflow.keras.optimizers import Adam\n",
    "\n",
    "model = Sequential()\n",
    "\n",
    "# Input layer\n",
    "model.add(Dense(64, activation='relu', input_shape=(64,))) # 64 neurons, ReLU activation, input shape of 64\n",
    "\n",
    "# Hidden layer\n",
    "model.add(Dense(64, activation='relu')) # 64 neurons, ReLU activation\n",
    "\n",
    "# Output layer\n",
    "model.add(Dense(10, activation='softmax')) # 10 neurons, softmax activation\n",
    "\n",
    "model.summary()\n",
    "\n",
    "model.compile(optimizer = Adam(learning_rate=0.01), # Optimizer\n",
    "    loss='categorical_crossentropy', # Loss function\n",
    "    metrics=['accuracy'] # Metrics to evaluate the model\n",
    ")\n",
    "\n",
    "model.fit(\n",
    "    X_train, # Training data\n",
    "    y_train, # Training labels\n",
    "    epochs=15, # Number of epochs\n",
    "    batch_size=32, # Number of samples per batch\n",
    "    validation_split=0.2 # Use 20% of the data for validation\n",
    ")"
   ]
  },
  {
   "cell_type": "markdown",
   "metadata": {},
   "source": [
    "Adding another layer improve the results from loss: 0.0843 - accuracy: 0.9748 to loss: 0.0111 - accuracy: 0.9965 "
   ]
  },
  {
   "cell_type": "code",
   "execution_count": 44,
   "metadata": {},
   "outputs": [
    {
     "name": "stdout",
     "output_type": "stream",
     "text": [
      "Model: \"sequential_15\"\n",
      "_________________________________________________________________\n",
      " Layer (type)                Output Shape              Param #   \n",
      "=================================================================\n",
      " dense_46 (Dense)            (None, 64)                4160      \n",
      "                                                                 \n",
      " dense_47 (Dense)            (None, 64)                4160      \n",
      "                                                                 \n",
      " dense_48 (Dense)            (None, 64)                4160      \n",
      "                                                                 \n",
      " dense_49 (Dense)            (None, 10)                650       \n",
      "                                                                 \n",
      "=================================================================\n",
      "Total params: 13130 (51.29 KB)\n",
      "Trainable params: 13130 (51.29 KB)\n",
      "Non-trainable params: 0 (0.00 Byte)\n",
      "_________________________________________________________________\n"
     ]
    },
    {
     "name": "stderr",
     "output_type": "stream",
     "text": [
      "WARNING:absl:At this time, the v2.11+ optimizer `tf.keras.optimizers.Adam` runs slowly on M1/M2 Macs, please use the legacy Keras optimizer instead, located at `tf.keras.optimizers.legacy.Adam`.\n"
     ]
    },
    {
     "name": "stdout",
     "output_type": "stream",
     "text": [
      "Epoch 1/15\n",
      "36/36 [==============================] - 0s 2ms/step - loss: 1.8261 - accuracy: 0.5631 - val_loss: 0.4383 - val_accuracy: 0.8542\n",
      "Epoch 2/15\n",
      "36/36 [==============================] - 0s 966us/step - loss: 0.2462 - accuracy: 0.9173 - val_loss: 0.2797 - val_accuracy: 0.8924\n",
      "Epoch 3/15\n",
      "36/36 [==============================] - 0s 839us/step - loss: 0.1710 - accuracy: 0.9443 - val_loss: 0.1756 - val_accuracy: 0.9479\n",
      "Epoch 4/15\n",
      "36/36 [==============================] - 0s 2ms/step - loss: 0.0806 - accuracy: 0.9800 - val_loss: 0.2997 - val_accuracy: 0.9028\n",
      "Epoch 5/15\n",
      "36/36 [==============================] - 0s 773us/step - loss: 0.1342 - accuracy: 0.9582 - val_loss: 0.1769 - val_accuracy: 0.9375\n",
      "Epoch 6/15\n",
      "36/36 [==============================] - 0s 753us/step - loss: 0.0839 - accuracy: 0.9739 - val_loss: 0.2088 - val_accuracy: 0.9306\n",
      "Epoch 7/15\n",
      "36/36 [==============================] - 0s 727us/step - loss: 0.0877 - accuracy: 0.9678 - val_loss: 0.2421 - val_accuracy: 0.9340\n",
      "Epoch 8/15\n",
      "36/36 [==============================] - 0s 778us/step - loss: 0.1126 - accuracy: 0.9678 - val_loss: 0.2797 - val_accuracy: 0.9167\n",
      "Epoch 9/15\n",
      "36/36 [==============================] - 0s 737us/step - loss: 0.1635 - accuracy: 0.9434 - val_loss: 0.1809 - val_accuracy: 0.9340\n",
      "Epoch 10/15\n",
      "36/36 [==============================] - 0s 725us/step - loss: 0.1081 - accuracy: 0.9678 - val_loss: 0.3311 - val_accuracy: 0.9271\n",
      "Epoch 11/15\n",
      "36/36 [==============================] - 0s 735us/step - loss: 0.1023 - accuracy: 0.9704 - val_loss: 0.2653 - val_accuracy: 0.9375\n",
      "Epoch 12/15\n",
      "36/36 [==============================] - 0s 702us/step - loss: 0.1234 - accuracy: 0.9652 - val_loss: 0.1651 - val_accuracy: 0.9549\n",
      "Epoch 13/15\n",
      "36/36 [==============================] - 0s 705us/step - loss: 0.0273 - accuracy: 0.9922 - val_loss: 0.1475 - val_accuracy: 0.9583\n",
      "Epoch 14/15\n",
      "36/36 [==============================] - 0s 728us/step - loss: 0.0243 - accuracy: 0.9930 - val_loss: 0.2241 - val_accuracy: 0.9549\n",
      "Epoch 15/15\n",
      "36/36 [==============================] - 0s 747us/step - loss: 0.0111 - accuracy: 0.9965 - val_loss: 0.2555 - val_accuracy: 0.9479\n"
     ]
    },
    {
     "data": {
      "text/plain": [
       "<keras.src.callbacks.History at 0x33088e220>"
      ]
     },
     "execution_count": 44,
     "metadata": {},
     "output_type": "execute_result"
    }
   ],
   "source": [
    "from  tensorflow.keras import optimizers\n",
    "from tensorflow.keras.optimizers import Adam\n",
    "\n",
    "model = Sequential()\n",
    "\n",
    "# Input layer\n",
    "model.add(Dense(64, activation='relu', input_shape=(64,))) # 64 neurons, ReLU activation, input shape of 64\n",
    "\n",
    "# Hidden layer\n",
    "model.add(Dense(64, activation='relu')) # 64 neurons, ReLU activation\n",
    "\n",
    "model.add(Dense(64, activation='relu')) # 64 neurons, ReLU activation\n",
    "\n",
    "# Output layer\n",
    "model.add(Dense(10, activation='softmax')) # 10 neurons, softmax activation\n",
    "\n",
    "model.summary()\n",
    "\n",
    "model.compile(optimizer = Adam(learning_rate=0.01), # Optimizer\n",
    "    loss='categorical_crossentropy', # Loss function\n",
    "    metrics=['accuracy'] # Metrics to evaluate the model\n",
    ")\n",
    "\n",
    "model.fit(\n",
    "    X_train, # Training data\n",
    "    y_train, # Training labels\n",
    "    epochs=15, # Number of epochs\n",
    "    batch_size=32, # Number of samples per batch\n",
    "    validation_split=0.2 # Use 20% of the data for validation\n",
    ")"
   ]
  },
  {
   "cell_type": "markdown",
   "metadata": {},
   "source": [
    "### Exercises: Forward Pass and Generalization\n",
    "\n",
    "Let's look in more detail at how the model makes predictions on the test set. We will walk through each step of making predictions, examining exactly what's going on.\n",
    "\n",
    "To start, we will apply our model to the test set, and look at what we get as output:"
   ]
  },
  {
   "cell_type": "code",
   "execution_count": 45,
   "metadata": {},
   "outputs": [
    {
     "data": {
      "text/plain": [
       "<tf.Tensor: shape=(5, 10), dtype=float32, numpy=\n",
       "array([[7.3764754e-09, 1.2099154e-10, 6.5627508e-09, 1.6160946e-12,\n",
       "        2.1800373e-09, 4.6973330e-08, 1.0000000e+00, 6.6258787e-16,\n",
       "        2.8707387e-11, 2.7398121e-14],\n",
       "       [5.1339595e-09, 6.0927141e-10, 1.2786553e-13, 1.8273962e-08,\n",
       "        2.0137631e-07, 7.5672317e-05, 4.4589279e-10, 1.7065137e-08,\n",
       "        5.9048810e-09, 9.9992406e-01],\n",
       "       [1.6059773e-14, 3.4401779e-15, 9.1791347e-10, 1.0000000e+00,\n",
       "        1.6729217e-16, 8.3156232e-10, 2.9669134e-12, 4.5367959e-10,\n",
       "        1.9007750e-11, 4.0809660e-08],\n",
       "       [2.7409133e-10, 2.2607264e-08, 6.1326866e-10, 1.0078749e-06,\n",
       "        1.4319099e-09, 2.8631187e-03, 1.6211034e-09, 9.9712521e-01,\n",
       "        6.7116439e-08, 1.0633687e-05],\n",
       "       [1.9192025e-13, 9.3720088e-16, 9.9999988e-01, 8.3110649e-08,\n",
       "        2.8276951e-17, 8.7267066e-10, 2.1562033e-14, 1.1005939e-11,\n",
       "        5.0240385e-09, 1.9497810e-11]], dtype=float32)>"
      ]
     },
     "execution_count": 45,
     "metadata": {},
     "output_type": "execute_result"
    }
   ],
   "source": [
    "predictions_tf = model(X_test)\n",
    "predictions_tf[:5]"
   ]
  },
  {
   "cell_type": "code",
   "execution_count": 46,
   "metadata": {},
   "outputs": [
    {
     "data": {
      "text/plain": [
       "(tensorflow.python.framework.ops.EagerTensor, TensorShape([360, 10]))"
      ]
     },
     "execution_count": 46,
     "metadata": {},
     "output_type": "execute_result"
    }
   ],
   "source": [
    "type(predictions_tf), predictions_tf.shape"
   ]
  },
  {
   "cell_type": "markdown",
   "metadata": {},
   "source": [
    "The raw output of the model is a tensor of shape `(360, 10)`. This means that we have 360 samples, and for each sample we have 10 values. Each of these values represents the probability that the sample belongs to a given class. This means that we have 10 probabilities for each sample, and the sum of these probabilities is 1. We can confirm this by summing the probabilities for each sample:"
   ]
  },
  {
   "cell_type": "code",
   "execution_count": 47,
   "metadata": {},
   "outputs": [
    {
     "data": {
      "text/plain": [
       "<tf.Tensor: shape=(5,), dtype=float32, numpy=\n",
       "array([1.        , 1.        , 1.        , 1.0000001 , 0.99999994],\n",
       "      dtype=float32)>"
      ]
     },
     "execution_count": 47,
     "metadata": {},
     "output_type": "execute_result"
    }
   ],
   "source": [
    "import tensorflow as tf\n",
    "\n",
    "tf.reduce_sum(predictions_tf, axis=1)[:5]"
   ]
  },
  {
   "cell_type": "markdown",
   "metadata": {
    "collapsed": false
   },
   "source": [
    "...okay, there might be a small rounding error here and there. This is to do with how floating point numbers are represented in computers, and it's not something we need to worry about for now."
   ]
  },
  {
   "cell_type": "markdown",
   "metadata": {},
   "source": [
    "We can also extract the label with the highest probability using the tensorflow API:"
   ]
  },
  {
   "cell_type": "code",
   "execution_count": 48,
   "metadata": {},
   "outputs": [
    {
     "data": {
      "text/plain": [
       "<tf.Tensor: shape=(5,), dtype=int64, numpy=array([6, 9, 3, 7, 2])>"
      ]
     },
     "execution_count": 48,
     "metadata": {},
     "output_type": "execute_result"
    }
   ],
   "source": [
    "predicted_labels_tf = tf.argmax(predictions_tf, axis=1)\n",
    "predicted_labels_tf[:5]"
   ]
  },
  {
   "cell_type": "markdown",
   "metadata": {
    "collapsed": false
   },
   "source": [
    "One helpful aspect of this approach is that we don't just get the prediction, but also a sense of how confident the model is in its prediction. To see this in practice, let's take a look at some of the predictions the model is highly confident about (i.e. a lot of the probability mass is on one class):"
   ]
  },
  {
   "cell_type": "code",
   "execution_count": 49,
   "metadata": {
    "collapsed": false
   },
   "outputs": [
    {
     "data": {
      "image/png": "[encoded data removed]",
      "text/plain": [
       "<Figure size 600x600 with 9 Axes>"
      ]
     },
     "metadata": {},
     "output_type": "display_data"
    }
   ],
   "source": [
    "# Get the values corresponding to the predicted labels for each sample\n",
    "predicted_values_tf = tf.reduce_max(predictions_tf, axis=1)\n",
    "\n",
    "# Get the indices of the samples with the highest predicted values\n",
    "most_confident_indices_tf = tf.argsort(predicted_values_tf, direction='DESCENDING').numpy()[:9]\n",
    "\n",
    "# Get the 9 most confident samples\n",
    "most_confident_samples_tf = X_test[most_confident_indices_tf]\n",
    "\n",
    "# Get the true labels for the 9 most confident samples\n",
    "most_confident_labels_tf = np.argmax(y_test[most_confident_indices_tf], axis=1)\n",
    "\n",
    "# Plot the 9 most confident samples\n",
    "fig, axes = plt.subplots(3, 3, figsize=(6, 6))\n",
    "\n",
    "for i, ax in enumerate(axes.flat):\n",
    "    ax.imshow(most_confident_samples_tf[i].reshape(8, 8), cmap=plt.cm.gray_r, interpolation='nearest')\n",
    "    ax.set_title(f\"{most_confident_labels_tf[i]}\")\n",
    "\n",
    "    # Removing axis labels\n",
    "    ax.set_xticks([])\n",
    "    ax.set_yticks([])\n",
    "    \n",
    "plt.show()"
   ]
  },
  {
   "cell_type": "markdown",
   "metadata": {},
   "source": [
    "## Impact of Initialization\n",
    "\n",
    "Let's study the impact of a bad initialization when training\n",
    "a deep feed forward network.\n",
    "\n",
    "By default, Keras dense layers use the \"Glorot Uniform\" initialization\n",
    "strategy to initialize the weight matrices:\n",
    "\n",
    "- each weight coefficient is randomly sampled from [-scale, scale]\n",
    "- scale is proportional to $\\frac{1}{\\sqrt{n_{in} + n_{out}}}$\n",
    "\n",
    "This strategy is known to work well to initialize deep neural networks\n",
    "with \"tanh\" or \"relu\" activation functions and then trained with\n",
    "standard SGD.\n",
    "\n",
    "To assess the impact of initialization let us plug an alternative init\n",
    "scheme into a 2 hidden layers networks with \"tanh\" activations.\n",
    "For the sake of the example let's use normal distributed weights\n",
    "with a manually adjustable scale (standard deviation) and see the\n",
    "impact the scale value:"
   ]
  },
  {
   "cell_type": "code",
   "execution_count": 51,
   "metadata": {},
   "outputs": [],
   "source": [
    "from tensorflow.keras import initializers\n",
    "from tensorflow.keras import optimizers\n",
    "\n",
    "input_dim = 64\n",
    "hidden_dim = 64\n",
    "output_dim = 10\n",
    "\n",
    "normal_init = initializers.TruncatedNormal(stddev=0.01, seed=42)\n",
    "\n",
    "model = Sequential()\n",
    "model.add(Dense(hidden_dim, input_dim=input_dim, activation=\"tanh\",\n",
    "                kernel_initializer=normal_init))\n",
    "model.add(Dense(hidden_dim, activation=\"tanh\",\n",
    "                kernel_initializer=normal_init))\n",
    "model.add(Dense(output_dim, activation=\"softmax\",\n",
    "                kernel_initializer=normal_init))\n",
    "\n",
    "model.compile(optimizer=optimizers.legacy.SGD(learning_rate=0.1),\n",
    "              loss='categorical_crossentropy', metrics=['accuracy'])"
   ]
  },
  {
   "cell_type": "code",
   "execution_count": 52,
   "metadata": {},
   "outputs": [
    {
     "data": {
      "text/plain": [
       "[<keras.src.layers.core.dense.Dense at 0x330804d30>,\n",
       " <keras.src.layers.core.dense.Dense at 0x1781e5b80>,\n",
       " <keras.src.layers.core.dense.Dense at 0x1781e5a90>]"
      ]
     },
     "execution_count": 52,
     "metadata": {},
     "output_type": "execute_result"
    }
   ],
   "source": [
    "model.layers"
   ]
  },
  {
   "cell_type": "markdown",
   "metadata": {},
   "source": [
    "Let's have a look at the parameters of the first layer after initialization but before any training has happened:"
   ]
  },
  {
   "cell_type": "code",
   "execution_count": 53,
   "metadata": {},
   "outputs": [
    {
     "data": {
      "text/plain": [
       "[<tf.Variable 'dense_53/kernel:0' shape=(64, 64) dtype=float32, numpy=\n",
       " array([[ 0.00015817, -0.01590087,  0.00103594, ...,  0.00962818,\n",
       "          0.00624957,  0.00994726],\n",
       "        [ 0.0081879 ,  0.00756818, -0.00668142, ...,  0.01084459,\n",
       "         -0.00317478, -0.00549116],\n",
       "        [-0.00086618, -0.00287623,  0.00391693, ...,  0.00064558,\n",
       "         -0.00420471,  0.00174566],\n",
       "        ...,\n",
       "        [-0.0029006 , -0.0091218 ,  0.00804327, ..., -0.01407086,\n",
       "          0.00952832, -0.01348555],\n",
       "        [ 0.00375078,  0.00967842,  0.00098119, ..., -0.00413454,\n",
       "          0.01695471,  0.00025196],\n",
       "        [ 0.00459809,  0.01223094, -0.00213172, ...,  0.01246831,\n",
       "         -0.00714749, -0.00868595]], dtype=float32)>,\n",
       " <tf.Variable 'dense_53/bias:0' shape=(64,) dtype=float32, numpy=\n",
       " array([0., 0., 0., 0., 0., 0., 0., 0., 0., 0., 0., 0., 0., 0., 0., 0., 0.,\n",
       "        0., 0., 0., 0., 0., 0., 0., 0., 0., 0., 0., 0., 0., 0., 0., 0., 0.,\n",
       "        0., 0., 0., 0., 0., 0., 0., 0., 0., 0., 0., 0., 0., 0., 0., 0., 0.,\n",
       "        0., 0., 0., 0., 0., 0., 0., 0., 0., 0., 0., 0., 0.], dtype=float32)>]"
      ]
     },
     "execution_count": 53,
     "metadata": {},
     "output_type": "execute_result"
    }
   ],
   "source": [
    "model.layers[0].weights"
   ]
  },
  {
   "cell_type": "code",
   "execution_count": 54,
   "metadata": {},
   "outputs": [
    {
     "data": {
      "text/plain": [
       "array([[ 0.00015817, -0.01590087,  0.00103594, ...,  0.00962818,\n",
       "         0.00624957,  0.00994726],\n",
       "       [ 0.0081879 ,  0.00756818, -0.00668142, ...,  0.01084459,\n",
       "        -0.00317478, -0.00549116],\n",
       "       [-0.00086618, -0.00287623,  0.00391693, ...,  0.00064558,\n",
       "        -0.00420471,  0.00174566],\n",
       "       ...,\n",
       "       [-0.0029006 , -0.0091218 ,  0.00804327, ..., -0.01407086,\n",
       "         0.00952832, -0.01348555],\n",
       "       [ 0.00375078,  0.00967842,  0.00098119, ..., -0.00413454,\n",
       "         0.01695471,  0.00025196],\n",
       "       [ 0.00459809,  0.01223094, -0.00213172, ...,  0.01246831,\n",
       "        -0.00714749, -0.00868595]], dtype=float32)"
      ]
     },
     "execution_count": 54,
     "metadata": {},
     "output_type": "execute_result"
    }
   ],
   "source": [
    "w = model.layers[0].weights[0].numpy()\n",
    "w"
   ]
  },
  {
   "cell_type": "code",
   "execution_count": 55,
   "metadata": {},
   "outputs": [
    {
     "data": {
      "text/plain": [
       "0.008835949"
      ]
     },
     "execution_count": 55,
     "metadata": {},
     "output_type": "execute_result"
    }
   ],
   "source": [
    "w.std()"
   ]
  },
  {
   "cell_type": "code",
   "execution_count": 56,
   "metadata": {},
   "outputs": [
    {
     "data": {
      "text/plain": [
       "array([0., 0., 0., 0., 0., 0., 0., 0., 0., 0., 0., 0., 0., 0., 0., 0., 0.,\n",
       "       0., 0., 0., 0., 0., 0., 0., 0., 0., 0., 0., 0., 0., 0., 0., 0., 0.,\n",
       "       0., 0., 0., 0., 0., 0., 0., 0., 0., 0., 0., 0., 0., 0., 0., 0., 0.,\n",
       "       0., 0., 0., 0., 0., 0., 0., 0., 0., 0., 0., 0., 0.], dtype=float32)"
      ]
     },
     "execution_count": 56,
     "metadata": {},
     "output_type": "execute_result"
    }
   ],
   "source": [
    "b = model.layers[0].weights[1].numpy()\n",
    "b"
   ]
  },
  {
   "cell_type": "code",
   "execution_count": 57,
   "metadata": {},
   "outputs": [
    {
     "name": "stdout",
     "output_type": "stream",
     "text": [
      "Epoch 1/15\n",
      "45/45 [==============================] - 0s 385us/step - loss: 2.2863 - accuracy: 0.1976\n",
      "Epoch 2/15\n",
      "45/45 [==============================] - 0s 418us/step - loss: 1.7294 - accuracy: 0.4607\n",
      "Epoch 3/15\n",
      "45/45 [==============================] - 0s 371us/step - loss: 0.9776 - accuracy: 0.7203\n",
      "Epoch 4/15\n",
      "45/45 [==============================] - 0s 386us/step - loss: 0.5164 - accuracy: 0.8733\n",
      "Epoch 5/15\n",
      "45/45 [==============================] - 0s 375us/step - loss: 0.2972 - accuracy: 0.9304\n",
      "Epoch 6/15\n",
      "45/45 [==============================] - 0s 380us/step - loss: 0.1911 - accuracy: 0.9631\n",
      "Epoch 7/15\n",
      "45/45 [==============================] - 0s 411us/step - loss: 0.1615 - accuracy: 0.9631\n",
      "Epoch 8/15\n",
      "45/45 [==============================] - 0s 411us/step - loss: 0.1467 - accuracy: 0.9541\n",
      "Epoch 9/15\n",
      "45/45 [==============================] - 0s 378us/step - loss: 0.1175 - accuracy: 0.9687\n",
      "Epoch 10/15\n",
      "45/45 [==============================] - 0s 351us/step - loss: 0.0779 - accuracy: 0.9861\n",
      "Epoch 11/15\n",
      "45/45 [==============================] - 0s 376us/step - loss: 0.0842 - accuracy: 0.9784\n",
      "Epoch 12/15\n",
      "45/45 [==============================] - 0s 335us/step - loss: 0.0668 - accuracy: 0.9833\n",
      "Epoch 13/15\n",
      "45/45 [==============================] - 0s 336us/step - loss: 0.0508 - accuracy: 0.9910\n",
      "Epoch 14/15\n",
      "45/45 [==============================] - 0s 337us/step - loss: 0.0433 - accuracy: 0.9903\n",
      "Epoch 15/15\n",
      "45/45 [==============================] - 0s 907us/step - loss: 0.0270 - accuracy: 0.9965\n"
     ]
    },
    {
     "data": {
      "image/png": "[encoded data removed]",
      "text/plain": [
       "<Figure size 1200x400 with 1 Axes>"
      ]
     },
     "metadata": {},
     "output_type": "display_data"
    }
   ],
   "source": [
    "history = model.fit(X_train, y_train, epochs=15, batch_size=32)\n",
    "\n",
    "plt.figure(figsize=(12, 4))\n",
    "plt.plot(history.history['loss'], label=\"Truncated Normal init\")\n",
    "plt.legend();"
   ]
  },
  {
   "cell_type": "markdown",
   "metadata": {},
   "source": [
    "Once the model has been fit, the weights have been updated and notably the biases are no longer 0:"
   ]
  },
  {
   "cell_type": "code",
   "execution_count": 58,
   "metadata": {},
   "outputs": [
    {
     "data": {
      "text/plain": [
       "[<tf.Variable 'dense_53/kernel:0' shape=(64, 64) dtype=float32, numpy=\n",
       " array([[ 1.5817076e-04, -1.5900869e-02,  1.0359446e-03, ...,\n",
       "          9.6281823e-03,  6.2495731e-03,  9.9472618e-03],\n",
       "        [ 1.3050156e-02, -1.4803286e-02, -1.1328153e-02, ...,\n",
       "         -2.3871183e-03, -1.6208312e-02, -2.3205370e-02],\n",
       "        [ 4.7101557e-02, -6.9845982e-02, -8.2612775e-02, ...,\n",
       "         -3.5786569e-02, -1.3088709e-01,  9.5415875e-02],\n",
       "        ...,\n",
       "        [ 2.2677949e-02,  2.3370143e-03,  1.4394161e-01, ...,\n",
       "         -7.5406015e-02,  3.8471654e-02, -1.9440480e-01],\n",
       "        [ 3.9276768e-02, -2.7632533e-02,  1.2029026e-01, ...,\n",
       "         -8.2302473e-02, -1.2865098e-02, -9.7094260e-02],\n",
       "        [ 2.9643644e-02, -2.3170091e-02,  5.1139232e-02, ...,\n",
       "          5.0532203e-02,  2.1556515e-02, -4.8168313e-02]], dtype=float32)>,\n",
       " <tf.Variable 'dense_53/bias:0' shape=(64,) dtype=float32, numpy=\n",
       " array([ 3.5513847e-05, -1.2747528e-03,  1.3000509e-03, -1.6089377e-03,\n",
       "        -5.6767920e-03, -3.0258697e-04, -4.5585886e-04,  2.2225318e-04,\n",
       "         2.6040131e-04, -2.7682541e-03,  2.4585206e-05,  6.5795523e-03,\n",
       "         1.4900760e-03,  1.6566366e-03,  2.6082837e-03, -2.3280538e-03,\n",
       "         3.6501533e-03,  3.6207060e-04, -4.0805413e-04, -7.9404260e-04,\n",
       "         8.2518405e-04, -6.1292248e-04,  2.3827746e-03,  1.3943762e-03,\n",
       "         3.8061209e-03, -6.8984070e-04, -1.1094732e-03,  5.4453261e-04,\n",
       "        -1.6945722e-03, -2.1376941e-04,  1.8236836e-03, -1.5866683e-03,\n",
       "         4.9337029e-04,  1.7286430e-03,  1.9759124e-03, -2.2709229e-04,\n",
       "        -1.5419011e-03, -5.3504651e-04, -3.7225517e-03, -1.1692182e-03,\n",
       "        -6.6113559e-04, -6.0053245e-04,  1.0352554e-03,  5.1590707e-04,\n",
       "         8.7193085e-04, -3.6083919e-04,  5.6283139e-03, -1.7216493e-03,\n",
       "         1.3252514e-03,  2.3330625e-03,  2.7102523e-03, -3.9123846e-03,\n",
       "        -5.2890447e-03,  4.0247632e-04, -4.2558121e-03, -3.2568474e-03,\n",
       "        -6.6003331e-04,  8.8999124e-04,  2.3516023e-03, -3.3043520e-04,\n",
       "         1.2612947e-03,  1.2477346e-03, -3.4291360e-03,  1.1899221e-03],\n",
       "       dtype=float32)>]"
      ]
     },
     "execution_count": 58,
     "metadata": {},
     "output_type": "execute_result"
    }
   ],
   "source": [
    "model.layers[0].weights"
   ]
  },
  {
   "cell_type": "markdown",
   "metadata": {},
   "source": [
    "#### Questions:\n",
    "\n",
    "- Try the following initialization schemes and see whether\n",
    "  the SGD algorithm can successfully train the network or\n",
    "  not:\n",
    "  \n",
    "  - a very small e.g. `stddev=1e-3`\n",
    "  - a larger scale e.g. `stddev=1` or `10`\n",
    "  - initialize all weights to 0 (constant initialization)\n",
    "  \n",
    "- What do you observe? Can you find an explanation for those\n",
    "  outcomes?\n",
    "\n",
    "- Are more advanced solvers such as SGD with momentum or Adam able\n",
    "  to deal better with such bad initializations?"
   ]
  },
  {
   "cell_type": "markdown",
   "metadata": {},
   "source": [
    "Using an small stddev the accuracy decreasee loss: 0.9545 - accuracy: 0.6242, in comparison with the previous excersise loss: 0.0270 - accuracy: 0.9965, at the beginning of the models the loss barely changed."
   ]
  },
  {
   "cell_type": "code",
   "execution_count": 60,
   "metadata": {},
   "outputs": [
    {
     "name": "stdout",
     "output_type": "stream",
     "text": [
      "Epoch 1/15\n",
      "45/45 [==============================] - 0s 417us/step - loss: 2.3036 - accuracy: 0.0835\n",
      "Epoch 2/15\n",
      "45/45 [==============================] - 0s 393us/step - loss: 2.3035 - accuracy: 0.0974\n",
      "Epoch 3/15\n",
      "45/45 [==============================] - 0s 370us/step - loss: 2.3032 - accuracy: 0.1072\n",
      "Epoch 4/15\n",
      "45/45 [==============================] - 0s 361us/step - loss: 2.3033 - accuracy: 0.1058\n",
      "Epoch 5/15\n",
      "45/45 [==============================] - 0s 353us/step - loss: 2.3030 - accuracy: 0.1072\n",
      "Epoch 6/15\n",
      "45/45 [==============================] - 0s 339us/step - loss: 2.3032 - accuracy: 0.0988\n",
      "Epoch 7/15\n",
      "45/45 [==============================] - 0s 339us/step - loss: 2.3031 - accuracy: 0.1072\n",
      "Epoch 8/15\n",
      "45/45 [==============================] - 0s 334us/step - loss: 2.3030 - accuracy: 0.1072\n",
      "Epoch 9/15\n",
      "45/45 [==============================] - 0s 345us/step - loss: 2.3019 - accuracy: 0.1044\n",
      "Epoch 10/15\n",
      "45/45 [==============================] - 0s 387us/step - loss: 2.1235 - accuracy: 0.1935\n",
      "Epoch 11/15\n",
      "45/45 [==============================] - 0s 412us/step - loss: 1.7946 - accuracy: 0.1921\n",
      "Epoch 12/15\n",
      "45/45 [==============================] - 0s 384us/step - loss: 1.6537 - accuracy: 0.2617\n",
      "Epoch 13/15\n",
      "45/45 [==============================] - 0s 395us/step - loss: 1.4287 - accuracy: 0.3473\n",
      "Epoch 14/15\n",
      "45/45 [==============================] - 0s 366us/step - loss: 1.2431 - accuracy: 0.5191\n",
      "Epoch 15/15\n",
      "45/45 [==============================] - 0s 369us/step - loss: 0.9545 - accuracy: 0.6242\n"
     ]
    },
    {
     "data": {
      "image/png": "[encoded data removed]",
      "text/plain": [
       "<Figure size 1200x400 with 1 Axes>"
      ]
     },
     "metadata": {},
     "output_type": "display_data"
    }
   ],
   "source": [
    "from tensorflow.keras import initializers\n",
    "from tensorflow.keras import optimizers\n",
    "\n",
    "input_dim = 64\n",
    "hidden_dim = 64\n",
    "output_dim = 10\n",
    "\n",
    "normal_init = initializers.TruncatedNormal(stddev=0.001, seed=42)\n",
    "\n",
    "model = Sequential()\n",
    "model.add(Dense(hidden_dim, input_dim=input_dim, activation=\"tanh\",\n",
    "                kernel_initializer=normal_init))\n",
    "model.add(Dense(hidden_dim, activation=\"tanh\",\n",
    "                kernel_initializer=normal_init))\n",
    "model.add(Dense(output_dim, activation=\"softmax\",\n",
    "                kernel_initializer=normal_init))\n",
    "\n",
    "model.compile(optimizer=optimizers.legacy.SGD(learning_rate=0.1),\n",
    "              loss='categorical_crossentropy', metrics=['accuracy'])\n",
    "\n",
    "history = model.fit(X_train, y_train, epochs=15, batch_size=32)\n",
    "\n",
    "plt.figure(figsize=(12, 4))\n",
    "plt.plot(history.history['loss'], label=\"Truncated Normal init\")\n",
    "plt.legend();"
   ]
  },
  {
   "cell_type": "markdown",
   "metadata": {},
   "source": [
    "Now using a bigger stddev value, loss: 46.9463 - accuracy: 0.1942 it take longer for the model to adjust"
   ]
  },
  {
   "cell_type": "code",
   "execution_count": 68,
   "metadata": {},
   "outputs": [
    {
     "name": "stdout",
     "output_type": "stream",
     "text": [
      "Epoch 1/15\n",
      "45/45 [==============================] - 0s 454us/step - loss: 181.1386 - accuracy: 0.1454\n",
      "Epoch 2/15\n",
      "45/45 [==============================] - 0s 387us/step - loss: 144.0005 - accuracy: 0.1705\n",
      "Epoch 3/15\n",
      "45/45 [==============================] - 0s 365us/step - loss: 135.6568 - accuracy: 0.1573\n",
      "Epoch 4/15\n",
      "45/45 [==============================] - 0s 340us/step - loss: 126.7847 - accuracy: 0.1371\n",
      "Epoch 5/15\n",
      "45/45 [==============================] - 0s 339us/step - loss: 116.9866 - accuracy: 0.1267\n",
      "Epoch 6/15\n",
      "45/45 [==============================] - 0s 340us/step - loss: 112.9686 - accuracy: 0.1190\n",
      "Epoch 7/15\n",
      "45/45 [==============================] - 0s 371us/step - loss: 102.9431 - accuracy: 0.1350\n",
      "Epoch 8/15\n",
      "45/45 [==============================] - 0s 1ms/step - loss: 92.7865 - accuracy: 0.1670\n",
      "Epoch 9/15\n",
      "45/45 [==============================] - 0s 503us/step - loss: 81.5140 - accuracy: 0.1955\n",
      "Epoch 10/15\n",
      "45/45 [==============================] - 0s 350us/step - loss: 65.5323 - accuracy: 0.1830\n",
      "Epoch 11/15\n",
      "45/45 [==============================] - 0s 352us/step - loss: 63.9360 - accuracy: 0.2067\n",
      "Epoch 12/15\n",
      "45/45 [==============================] - 0s 367us/step - loss: 73.4887 - accuracy: 0.1434\n",
      "Epoch 13/15\n",
      "45/45 [==============================] - 0s 363us/step - loss: 60.1983 - accuracy: 0.1823\n",
      "Epoch 14/15\n",
      "45/45 [==============================] - 0s 379us/step - loss: 53.5030 - accuracy: 0.2157\n",
      "Epoch 15/15\n",
      "45/45 [==============================] - 0s 338us/step - loss: 46.9463 - accuracy: 0.1942\n"
     ]
    },
    {
     "data": {
      "image/png": "[encoded data removed]",
      "text/plain": [
       "<Figure size 1200x400 with 1 Axes>"
      ]
     },
     "metadata": {},
     "output_type": "display_data"
    }
   ],
   "source": [
    "from tensorflow.keras import initializers\n",
    "from tensorflow.keras import optimizers\n",
    "\n",
    "input_dim = 64\n",
    "hidden_dim = 64\n",
    "output_dim = 10\n",
    "\n",
    "normal_init = initializers.TruncatedNormal(stddev=20, seed=42)\n",
    "\n",
    "model = Sequential()\n",
    "model.add(Dense(hidden_dim, input_dim=input_dim, activation=\"tanh\",\n",
    "                kernel_initializer=normal_init))\n",
    "model.add(Dense(hidden_dim, activation=\"tanh\",\n",
    "                kernel_initializer=normal_init))\n",
    "model.add(Dense(output_dim, activation=\"softmax\",\n",
    "                kernel_initializer=normal_init))\n",
    "\n",
    "model.compile(optimizer=optimizers.legacy.SGD(learning_rate=0.1),\n",
    "              loss='categorical_crossentropy', metrics=['accuracy'])\n",
    "\n",
    "history = model.fit(X_train, y_train, epochs=15, batch_size=32)\n",
    "\n",
    "plt.figure(figsize=(12, 4))\n",
    "plt.plot(history.history['loss'], label=\"Truncated Normal init\")\n",
    "plt.legend();"
   ]
  },
  {
   "cell_type": "markdown",
   "metadata": {},
   "source": [
    "Initialize weights to cero, the loss almost stay the same to the entire process"
   ]
  },
  {
   "cell_type": "code",
   "execution_count": 66,
   "metadata": {},
   "outputs": [
    {
     "name": "stdout",
     "output_type": "stream",
     "text": [
      "Model: \"sequential_25\"\n",
      "_________________________________________________________________\n",
      " Layer (type)                Output Shape              Param #   \n",
      "=================================================================\n",
      " dense_77 (Dense)            (None, 64)                4160      \n",
      "                                                                 \n",
      " dense_78 (Dense)            (None, 64)                4160      \n",
      "                                                                 \n",
      " dense_79 (Dense)            (None, 10)                650       \n",
      "                                                                 \n",
      "=================================================================\n",
      "Total params: 8970 (35.04 KB)\n",
      "Trainable params: 8970 (35.04 KB)\n",
      "Non-trainable params: 0 (0.00 Byte)\n",
      "_________________________________________________________________\n"
     ]
    },
    {
     "name": "stderr",
     "output_type": "stream",
     "text": [
      "WARNING:absl:At this time, the v2.11+ optimizer `tf.keras.optimizers.SGD` runs slowly on M1/M2 Macs, please use the legacy Keras optimizer instead, located at `tf.keras.optimizers.legacy.SGD`.\n"
     ]
    },
    {
     "name": "stdout",
     "output_type": "stream",
     "text": [
      "Epoch 1/15\n",
      "36/36 [==============================] - 0s 2ms/step - loss: 2.3026 - accuracy: 0.0983 - val_loss: 2.3028 - val_accuracy: 0.1076\n",
      "Epoch 2/15\n",
      "36/36 [==============================] - 0s 722us/step - loss: 2.3025 - accuracy: 0.0931 - val_loss: 2.3030 - val_accuracy: 0.1076\n",
      "Epoch 3/15\n",
      "36/36 [==============================] - 0s 692us/step - loss: 2.3024 - accuracy: 0.0966 - val_loss: 2.3031 - val_accuracy: 0.1076\n",
      "Epoch 4/15\n",
      "36/36 [==============================] - 0s 672us/step - loss: 2.3023 - accuracy: 0.0862 - val_loss: 2.3033 - val_accuracy: 0.1076\n",
      "Epoch 5/15\n",
      "36/36 [==============================] - 0s 687us/step - loss: 2.3022 - accuracy: 0.0818 - val_loss: 2.3035 - val_accuracy: 0.1076\n",
      "Epoch 6/15\n",
      "36/36 [==============================] - 0s 629us/step - loss: 2.3021 - accuracy: 0.1036 - val_loss: 2.3036 - val_accuracy: 0.1076\n",
      "Epoch 7/15\n",
      "36/36 [==============================] - 0s 645us/step - loss: 2.3020 - accuracy: 0.1070 - val_loss: 2.3038 - val_accuracy: 0.1076\n",
      "Epoch 8/15\n",
      "36/36 [==============================] - 0s 624us/step - loss: 2.3019 - accuracy: 0.1036 - val_loss: 2.3040 - val_accuracy: 0.1076\n",
      "Epoch 9/15\n",
      "36/36 [==============================] - 0s 664us/step - loss: 2.3019 - accuracy: 0.1070 - val_loss: 2.3041 - val_accuracy: 0.1076\n",
      "Epoch 10/15\n",
      "36/36 [==============================] - 0s 612us/step - loss: 2.3018 - accuracy: 0.1001 - val_loss: 2.3043 - val_accuracy: 0.1076\n",
      "Epoch 11/15\n",
      "36/36 [==============================] - 0s 639us/step - loss: 2.3017 - accuracy: 0.1018 - val_loss: 2.3045 - val_accuracy: 0.1076\n",
      "Epoch 12/15\n",
      "36/36 [==============================] - 0s 648us/step - loss: 2.3017 - accuracy: 0.1070 - val_loss: 2.3046 - val_accuracy: 0.1076\n",
      "Epoch 13/15\n",
      "36/36 [==============================] - 0s 614us/step - loss: 2.3016 - accuracy: 0.1070 - val_loss: 2.3048 - val_accuracy: 0.1076\n",
      "Epoch 14/15\n",
      "36/36 [==============================] - 0s 666us/step - loss: 2.3015 - accuracy: 0.1070 - val_loss: 2.3049 - val_accuracy: 0.1076\n",
      "Epoch 15/15\n",
      "36/36 [==============================] - 0s 625us/step - loss: 2.3015 - accuracy: 0.1070 - val_loss: 2.3051 - val_accuracy: 0.1076\n"
     ]
    },
    {
     "data": {
      "image/png": "[encoded data removed]",
      "text/plain": [
       "<Figure size 1200x400 with 1 Axes>"
      ]
     },
     "metadata": {},
     "output_type": "display_data"
    }
   ],
   "source": [
    "#Initialize all weights to 0\n",
    "zero_init = initializers.Zeros()\n",
    "\n",
    "#Defining the model\n",
    "model = Sequential()\n",
    "\n",
    "# Input layer\n",
    "model.add(Dense(hidden_dim, input_dim = input_dim, activation='tanh', kernel_initializer = zero_init))\n",
    "\n",
    "# Hidden layer\n",
    "model.add(Dense(hidden_dim, activation='tanh', kernel_initializer = zero_init)) \n",
    "\n",
    "# Output layer\n",
    "model.add(Dense(output_dim, activation='softmax', kernel_initializer = zero_init)) \n",
    "\n",
    "model.summary()\n",
    "\n",
    "model.compile(optimizer = optimizers.SGD(learning_rate=0.01), # Optimizer\n",
    "    loss='categorical_crossentropy', # Loss function\n",
    "    metrics=['accuracy'] # Metrics to evaluate the model\n",
    ")\n",
    "\n",
    "hystory = model.fit(\n",
    "    X_train, # Training data\n",
    "    y_train, # Training labels\n",
    "    epochs=15, # Number of epochs\n",
    "    batch_size=32, # Number of samples per batch\n",
    "    validation_split=0.2 # Use 20% of the data for validation\n",
    ")\n",
    "\n",
    "plt.figure(figsize=(12, 4))\n",
    "plt.plot(history.history['loss'], label=\"Truncated Normal init\")\n",
    "plt.legend();"
   ]
  }
 ],
 "metadata": {
  "file_extension": ".py",
  "kernelspec": {
   "display_name": "Python 3 (ipykernel)",
   "language": "python",
   "name": "python3"
  },
  "language_info": {
   "codemirror_mode": {
    "name": "ipython",
    "version": 3
   },
   "file_extension": ".py",
   "mimetype": "text/x-python",
   "name": "python",
   "nbconvert_exporter": "python",
   "pygments_lexer": "ipython3",
   "version": "3.9.18"
  },
  "mimetype": "text/x-python",
  "name": "python",
  "npconvert_exporter": "python",
  "pygments_lexer": "ipython3",
  "toc": {
   "base_numbering": 1,
   "nav_menu": {},
   "number_sections": true,
   "sideBar": true,
   "skip_h1_title": false,
   "title_cell": "Table of Contents",
   "title_sidebar": "Contents",
   "toc_cell": false,
   "toc_position": {},
   "toc_section_display": true,
   "toc_window_display": false
  },
  "version": 3
 },
 "nbformat": 4,
 "nbformat_minor": 4
}
